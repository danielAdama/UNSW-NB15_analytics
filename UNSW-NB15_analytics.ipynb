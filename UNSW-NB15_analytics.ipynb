{
 "cells": [
  {
   "cell_type": "code",
   "execution_count": 1,
   "metadata": {},
   "outputs": [
    {
     "data": {
      "text/plain": [
       "<Figure size 2200x2000 with 0 Axes>"
      ]
     },
     "execution_count": 1,
     "metadata": {},
     "output_type": "execute_result"
    },
    {
     "data": {
      "text/plain": [
       "<Figure size 2200x2000 with 0 Axes>"
      ]
     },
     "metadata": {},
     "output_type": "display_data"
    }
   ],
   "source": [
    "import pandas as pd\n",
    "from pyspark.sql import SparkSession, Row\n",
    "from pyspark.sql.types import StructType, StructField\n",
    "from pyspark.sql.types import StructField, StructType, StringType, IntegerType, FloatType, TimestampType, BinaryType\n",
    "import pyspark.sql.functions as F\n",
    "from pyspark.sql.functions import count, when, col\n",
    "import matplotlib.pyplot as plt\n",
    "%matplotlib inline\n",
    "\n",
    "import seaborn as sns\n",
    "sns.set_theme(style='darkgrid')\n",
    "plt.figure(figsize=(22, 20))"
   ]
  },
  {
   "cell_type": "markdown",
   "metadata": {},
   "source": [
    "# Exploratory Data Analysis and Data Preparation"
   ]
  },
  {
   "cell_type": "code",
   "execution_count": 2,
   "metadata": {},
   "outputs": [
    {
     "name": "stderr",
     "output_type": "stream",
     "text": [
      "Setting default log level to \"WARN\".\n",
      "To adjust logging level use sc.setLogLevel(newLevel). For SparkR, use setLogLevel(newLevel).\n",
      "24/05/13 21:11:09 WARN NativeCodeLoader: Unable to load native-hadoop library for your platform... using builtin-java classes where applicable\n",
      "24/05/13 21:11:09 WARN Utils: Service 'SparkUI' could not bind on port 4040. Attempting port 4041.\n"
     ]
    }
   ],
   "source": [
    "spark = SparkSession.builder.appName(\"UNSW_data\").getOrCreate()"
   ]
  },
  {
   "cell_type": "code",
   "execution_count": 3,
   "metadata": {},
   "outputs": [],
   "source": [
    "sc = spark.sparkContext"
   ]
  },
  {
   "cell_type": "code",
   "execution_count": 4,
   "metadata": {},
   "outputs": [],
   "source": [
    "# Load the features data\n",
    "features_df = spark.read.csv(\"./UNSW-NB15_features.csv\", header=True, inferSchema=True)\n",
    "\n",
    "# Load the attack events data\n",
    "attacks_df = spark.read.csv(\"./UNSW-NB15_LIST_EVENTS.csv\", header=True, inferSchema=True)"
   ]
  },
  {
   "cell_type": "code",
   "execution_count": 5,
   "metadata": {},
   "outputs": [
    {
     "name": "stdout",
     "output_type": "stream",
     "text": [
      "+---+------+-------+--------------------+\n",
      "|No.|  Name|  Type |         Description|\n",
      "+---+------+-------+--------------------+\n",
      "|  1| srcip|nominal|   Source IP address|\n",
      "|  2| sport|integer|  Source port number|\n",
      "|  3| dstip|nominal|Destination IP ad...|\n",
      "|  4|dsport|integer|Destination port ...|\n",
      "|  5| proto|nominal|Transaction protocol|\n",
      "|  6| state|nominal|Indicates to the ...|\n",
      "|  7|   dur|  Float|Record total dura...|\n",
      "|  8|sbytes|Integer|Source to destina...|\n",
      "|  9|dbytes|Integer|Destination to so...|\n",
      "| 10|  sttl|Integer|Source to destina...|\n",
      "+---+------+-------+--------------------+\n",
      "only showing top 10 rows\n",
      "\n"
     ]
    }
   ],
   "source": [
    "features_df.show(10)"
   ]
  },
  {
   "cell_type": "code",
   "execution_count": 6,
   "metadata": {},
   "outputs": [
    {
     "name": "stdout",
     "output_type": "stream",
     "text": [
      "+---------------+------------------+----------------+\n",
      "|Attack category|Attack subcategory|Number of events|\n",
      "+---------------+------------------+----------------+\n",
      "|         normal|              NULL|         2218761|\n",
      "|       Fuzzers |               FTP|             558|\n",
      "|       Fuzzers |              HTTP|            1497|\n",
      "|       Fuzzers |               RIP|            3550|\n",
      "|       Fuzzers |               SMB|            5245|\n",
      "|       Fuzzers |            Syslog|            1851|\n",
      "|       Fuzzers |              PPTP|            1583|\n",
      "|        Fuzzers|               FTP|             248|\n",
      "|        Fuzzers|            DCERPC|             164|\n",
      "|        Fuzzers|              OSPF|             993|\n",
      "+---------------+------------------+----------------+\n",
      "only showing top 10 rows\n",
      "\n"
     ]
    }
   ],
   "source": [
    "attacks_df.show(10)"
   ]
  },
  {
   "cell_type": "markdown",
   "metadata": {},
   "source": [
    "The attacks_df the Attack category shows that the normal is denoted as NULL, meaning we will have to replace the NULL values with normal"
   ]
  },
  {
   "cell_type": "code",
   "execution_count": 7,
   "metadata": {},
   "outputs": [
    {
     "name": "stdout",
     "output_type": "stream",
     "text": [
      "['No.', 'Name', 'Type ', 'Description']\n"
     ]
    }
   ],
   "source": [
    "print(features_df.columns)"
   ]
  },
  {
   "cell_type": "markdown",
   "metadata": {},
   "source": [
    "We need to rename the Type column of the features_df in order to access it as it denoted as \"Type \" instead of \"Type\", so we can easily access it for data processing."
   ]
  },
  {
   "cell_type": "code",
   "execution_count": 8,
   "metadata": {},
   "outputs": [],
   "source": [
    "features_df = features_df.withColumnRenamed('Type ', 'Type')"
   ]
  },
  {
   "cell_type": "code",
   "execution_count": 9,
   "metadata": {},
   "outputs": [],
   "source": [
    "def get_spark_type(typ):\n",
    "    if typ == 'nominal':\n",
    "        return StringType()\n",
    "    elif typ == 'integer':\n",
    "        return IntegerType()\n",
    "    elif typ == 'float':\n",
    "        return FloatType()\n",
    "    elif typ == 'timestamp':\n",
    "        return TimestampType()\n",
    "    elif typ == 'binary':\n",
    "        return IntegerType()\n",
    "    else:\n",
    "        raise ValueError(f\"Unsupported type: {typ}\")"
   ]
  },
  {
   "cell_type": "code",
   "execution_count": 10,
   "metadata": {},
   "outputs": [],
   "source": [
    "# Extract the column names and data types from the features DataFrame\n",
    "feature_names = [row.Name for row in features_df.collect()]\n",
    "feature_types = [row.Type.lower()for row in features_df.collect()]"
   ]
  },
  {
   "cell_type": "code",
   "execution_count": 11,
   "metadata": {},
   "outputs": [
    {
     "data": {
      "text/plain": [
       "['srcip',\n",
       " 'sport',\n",
       " 'dstip',\n",
       " 'dsport',\n",
       " 'proto',\n",
       " 'state',\n",
       " 'dur',\n",
       " 'sbytes',\n",
       " 'dbytes',\n",
       " 'sttl',\n",
       " 'dttl',\n",
       " 'sloss',\n",
       " 'dloss',\n",
       " 'service',\n",
       " 'Sload',\n",
       " 'Dload',\n",
       " 'Spkts',\n",
       " 'Dpkts',\n",
       " 'swin',\n",
       " 'dwin',\n",
       " 'stcpb',\n",
       " 'dtcpb',\n",
       " 'smeansz',\n",
       " 'dmeansz',\n",
       " 'trans_depth',\n",
       " 'res_bdy_len',\n",
       " 'Sjit',\n",
       " 'Djit',\n",
       " 'Stime',\n",
       " 'Ltime',\n",
       " 'Sintpkt',\n",
       " 'Dintpkt',\n",
       " 'tcprtt',\n",
       " 'synack',\n",
       " 'ackdat',\n",
       " 'is_sm_ips_ports',\n",
       " 'ct_state_ttl',\n",
       " 'ct_flw_http_mthd',\n",
       " 'is_ftp_login',\n",
       " 'ct_ftp_cmd',\n",
       " 'ct_srv_src',\n",
       " 'ct_srv_dst',\n",
       " 'ct_dst_ltm',\n",
       " 'ct_src_ ltm',\n",
       " 'ct_src_dport_ltm',\n",
       " 'ct_dst_sport_ltm',\n",
       " 'ct_dst_src_ltm',\n",
       " 'attack_cat',\n",
       " 'Label']"
      ]
     },
     "execution_count": 11,
     "metadata": {},
     "output_type": "execute_result"
    }
   ],
   "source": [
    "feature_names"
   ]
  },
  {
   "cell_type": "code",
   "execution_count": 12,
   "metadata": {},
   "outputs": [
    {
     "data": {
      "text/plain": [
       "['nominal',\n",
       " 'integer',\n",
       " 'nominal',\n",
       " 'integer',\n",
       " 'nominal',\n",
       " 'nominal',\n",
       " 'float',\n",
       " 'integer',\n",
       " 'integer',\n",
       " 'integer',\n",
       " 'integer',\n",
       " 'integer',\n",
       " 'integer',\n",
       " 'nominal',\n",
       " 'float',\n",
       " 'float',\n",
       " 'integer',\n",
       " 'integer',\n",
       " 'integer',\n",
       " 'integer',\n",
       " 'integer',\n",
       " 'integer',\n",
       " 'integer',\n",
       " 'integer',\n",
       " 'integer',\n",
       " 'integer',\n",
       " 'float',\n",
       " 'float',\n",
       " 'timestamp',\n",
       " 'timestamp',\n",
       " 'float',\n",
       " 'float',\n",
       " 'float',\n",
       " 'float',\n",
       " 'float',\n",
       " 'binary',\n",
       " 'integer',\n",
       " 'integer',\n",
       " 'binary',\n",
       " 'integer',\n",
       " 'integer',\n",
       " 'integer',\n",
       " 'integer',\n",
       " 'integer',\n",
       " 'integer',\n",
       " 'integer',\n",
       " 'integer',\n",
       " 'nominal',\n",
       " 'binary']"
      ]
     },
     "execution_count": 12,
     "metadata": {},
     "output_type": "execute_result"
    }
   ],
   "source": [
    "feature_types"
   ]
  },
  {
   "cell_type": "code",
   "execution_count": 13,
   "metadata": {},
   "outputs": [
    {
     "name": "stdout",
     "output_type": "stream",
     "text": [
      "[('srcip', 'nominal'), ('sport', 'integer'), ('dstip', 'nominal'), ('dsport', 'integer'), ('proto', 'nominal'), ('state', 'nominal'), ('dur', 'float'), ('sbytes', 'integer'), ('dbytes', 'integer'), ('sttl', 'integer'), ('dttl', 'integer'), ('sloss', 'integer'), ('dloss', 'integer'), ('service', 'nominal'), ('Sload', 'float'), ('Dload', 'float'), ('Spkts', 'integer'), ('Dpkts', 'integer'), ('swin', 'integer'), ('dwin', 'integer'), ('stcpb', 'integer'), ('dtcpb', 'integer'), ('smeansz', 'integer'), ('dmeansz', 'integer'), ('trans_depth', 'integer'), ('res_bdy_len', 'integer'), ('Sjit', 'float'), ('Djit', 'float'), ('Stime', 'timestamp'), ('Ltime', 'timestamp'), ('Sintpkt', 'float'), ('Dintpkt', 'float'), ('tcprtt', 'float'), ('synack', 'float'), ('ackdat', 'float'), ('is_sm_ips_ports', 'binary'), ('ct_state_ttl', 'integer'), ('ct_flw_http_mthd', 'integer'), ('is_ftp_login', 'binary'), ('ct_ftp_cmd', 'integer'), ('ct_srv_src', 'integer'), ('ct_srv_dst', 'integer'), ('ct_dst_ltm', 'integer'), ('ct_src_ ltm', 'integer'), ('ct_src_dport_ltm', 'integer'), ('ct_dst_sport_ltm', 'integer'), ('ct_dst_src_ltm', 'integer'), ('attack_cat', 'nominal'), ('Label', 'binary')]\n"
     ]
    }
   ],
   "source": [
    "print([(name, typ) for name, typ in zip(feature_names, feature_types)])"
   ]
  },
  {
   "cell_type": "code",
   "execution_count": 14,
   "metadata": {},
   "outputs": [],
   "source": [
    "# Create a list of StructField objects based on the feature names and types\n",
    "fields = [StructField(name, get_spark_type(typ), True) for name, typ in zip(feature_names, feature_types)]\n",
    "\n",
    "# Create a StructType object from the list of StructField objects\n",
    "schema = StructType(fields)"
   ]
  },
  {
   "cell_type": "code",
   "execution_count": 15,
   "metadata": {},
   "outputs": [
    {
     "data": {
      "text/plain": [
       "StructType([StructField('srcip', StringType(), True), StructField('sport', IntegerType(), True), StructField('dstip', StringType(), True), StructField('dsport', IntegerType(), True), StructField('proto', StringType(), True), StructField('state', StringType(), True), StructField('dur', FloatType(), True), StructField('sbytes', IntegerType(), True), StructField('dbytes', IntegerType(), True), StructField('sttl', IntegerType(), True), StructField('dttl', IntegerType(), True), StructField('sloss', IntegerType(), True), StructField('dloss', IntegerType(), True), StructField('service', StringType(), True), StructField('Sload', FloatType(), True), StructField('Dload', FloatType(), True), StructField('Spkts', IntegerType(), True), StructField('Dpkts', IntegerType(), True), StructField('swin', IntegerType(), True), StructField('dwin', IntegerType(), True), StructField('stcpb', IntegerType(), True), StructField('dtcpb', IntegerType(), True), StructField('smeansz', IntegerType(), True), StructField('dmeansz', IntegerType(), True), StructField('trans_depth', IntegerType(), True), StructField('res_bdy_len', IntegerType(), True), StructField('Sjit', FloatType(), True), StructField('Djit', FloatType(), True), StructField('Stime', TimestampType(), True), StructField('Ltime', TimestampType(), True), StructField('Sintpkt', FloatType(), True), StructField('Dintpkt', FloatType(), True), StructField('tcprtt', FloatType(), True), StructField('synack', FloatType(), True), StructField('ackdat', FloatType(), True), StructField('is_sm_ips_ports', IntegerType(), True), StructField('ct_state_ttl', IntegerType(), True), StructField('ct_flw_http_mthd', IntegerType(), True), StructField('is_ftp_login', IntegerType(), True), StructField('ct_ftp_cmd', IntegerType(), True), StructField('ct_srv_src', IntegerType(), True), StructField('ct_srv_dst', IntegerType(), True), StructField('ct_dst_ltm', IntegerType(), True), StructField('ct_src_ ltm', IntegerType(), True), StructField('ct_src_dport_ltm', IntegerType(), True), StructField('ct_dst_sport_ltm', IntegerType(), True), StructField('ct_dst_src_ltm', IntegerType(), True), StructField('attack_cat', StringType(), True), StructField('Label', IntegerType(), True)])"
      ]
     },
     "execution_count": 15,
     "metadata": {},
     "output_type": "execute_result"
    }
   ],
   "source": [
    "schema"
   ]
  },
  {
   "cell_type": "code",
   "execution_count": 16,
   "metadata": {},
   "outputs": [],
   "source": [
    "df = spark.read.csv(\"./UNSW-NB15.csv\", schema=schema)"
   ]
  },
  {
   "cell_type": "code",
   "execution_count": 17,
   "metadata": {},
   "outputs": [
    {
     "name": "stderr",
     "output_type": "stream",
     "text": [
      "24/05/13 21:11:14 WARN SparkStringUtils: Truncated the string representation of a plan since it was too large. This behavior can be adjusted by setting 'spark.sql.debug.maxToStringFields'.\n"
     ]
    },
    {
     "name": "stdout",
     "output_type": "stream",
     "text": [
      "+----------+-----+-------------+------+-----+-----+--------+------+------+----+----+-----+-----+--------+---------+---------+-----+-----+----+----+----------+----------+-------+-------+-----------+-----------+---------+---------+-----+-----+---------+---------+-------+-------+-------+---------------+------------+----------------+------------+----------+----------+----------+----------+-----------+----------------+----------------+--------------+----------+-----+\n",
      "|     srcip|sport|        dstip|dsport|proto|state|     dur|sbytes|dbytes|sttl|dttl|sloss|dloss| service|    Sload|    Dload|Spkts|Dpkts|swin|dwin|     stcpb|     dtcpb|smeansz|dmeansz|trans_depth|res_bdy_len|     Sjit|     Djit|Stime|Ltime|  Sintpkt|  Dintpkt| tcprtt| synack| ackdat|is_sm_ips_ports|ct_state_ttl|ct_flw_http_mthd|is_ftp_login|ct_ftp_cmd|ct_srv_src|ct_srv_dst|ct_dst_ltm|ct_src_ ltm|ct_src_dport_ltm|ct_dst_sport_ltm|ct_dst_src_ltm|attack_cat|Label|\n",
      "+----------+-----+-------------+------+-----+-----+--------+------+------+----+----+-----+-----+--------+---------+---------+-----+-----+----+----+----------+----------+-------+-------+-----------+-----------+---------+---------+-----+-----+---------+---------+-------+-------+-------+---------------+------------+----------------+------------+----------+----------+----------+----------+-----------+----------------+----------------+--------------+----------+-----+\n",
      "|59.166.0.3|56716|149.171.126.8|   143|  tcp|  FIN| 0.82546|  7812| 16236|  31|  29|   30|   32|       -| 75090.25|156111.73|  122|  126| 255| 255|      NULL|      NULL|     64|    129|          0|          0|445.25928| 474.9451| NULL| NULL| 6.819091| 6.599896|5.97E-4|4.69E-4|1.28E-4|              0|           0|               0|           0|         0|         2|         7|         1|          4|               1|               1|             1|      NULL|    0|\n",
      "|59.166.0.0|43467|149.171.126.6| 49729|  tcp|  FIN|0.101815|  4238| 65628|  31|  29|    7|   30|       -|328438.84|5087030.5|   72|   74| 255| 255| 961515433|      NULL|     59|    887|          0|          0|      0.0| 91.57957| NULL| NULL| 1.429493| 1.387192| 6.8E-4|5.46E-4|1.34E-4|              0|           0|               0|           0|         0|         7|         4|         1|          6|               1|               1|             1|      NULL|    0|\n",
      "|59.166.0.5|41289|149.171.126.2|  9574|  tcp|  FIN|0.044003|  2750| 29104|  31|  29|    7|   17|       -|488693.97|5181101.5|   44|   48| 255| 255|      NULL|1191410228|     63|    606|          0|          0| 78.12697|62.206562| NULL| NULL| 1.014977|  0.92583|0.00125|4.85E-4|7.65E-4|              0|           0|               0|           0|         0|         3|         5|         3|          3|               1|               1|             1|      NULL|    0|\n",
      "|59.166.0.9|43785|149.171.126.0|  6881|  tcp|  FIN| 2.79083| 10476|395734|  31|  29|   16|  143|       -|29863.518|1130840.8|  180|  320| 255| 255|      NULL|      NULL|     58|   1237|          0|          0|2707.4927| 2018.976| NULL| NULL|15.589459| 8.747012|6.84E-4|5.32E-4|1.52E-4|              0|           0|               0|           0|         0|        11|         4|         3|          2|               1|               1|             1|      NULL|    0|\n",
      "|59.166.0.8|40691|149.171.126.9|  6881|  tcp|  FIN|  2.6335| 13350|548216|  31|  29|   21|  197|       -| 40381.24|1661560.6|  232|  438| 255| 255|   1518931|  18267719|     58|   1252|          0|          0| 718.3368|500.57288| NULL| NULL|11.399026| 6.025183|6.19E-4|4.89E-4| 1.3E-4|              0|           0|               0|           0|         0|        16|         7|         7|          1|               1|               1|             1|      NULL|    0|\n",
      "|59.166.0.3|20393|149.171.126.3|  5190|  tcp|  FIN|0.115048|  1958|  2308|  31|  29|    6|    6|       -|129963.15|153814.06|   22|   24| 255| 255|      NULL|      NULL|     89|     96|          0|          0|435.26627|417.08563| NULL| NULL| 5.460381| 4.976913| 7.1E-4|5.73E-4|1.37E-4|              0|           0|               0|           0|         0|         2|         6|         1|          4|               1|               1|             1|      NULL|    0|\n",
      "|59.166.0.7|19792|149.171.126.0|    53|  udp|  CON|0.003362|   146|   178|  31|  29|    0|    0|     dns|173706.12| 211778.7|    2|    2|   0|   0|         0|         0|     73|     89|          0|          0|      0.0|      0.0| NULL| NULL|    0.011|    0.006|    0.0|    0.0|    0.0|              0|           0|               0|           0|         0|         3|         2|         3|          3|               3|               1|             1|      NULL|    0|\n",
      "|59.166.0.3|14382|149.171.126.9|  3354|  tcp|  FIN|0.453052|   424|  8824|  31|  29|    1|    4|ftp-data| 6551.124| 142835.7|    8|   12| 255| 255|      NULL|      NULL|     53|    735|          0|          0| 3906.795|3074.6694| NULL| NULL| 64.67129|   41.135| 6.8E-4|5.59E-4|1.21E-4|              0|           0|               0|           0|         0|         4|         6|         7|          4|               1|               1|             2|      NULL|    0|\n",
      "|59.166.0.9|37074|149.171.126.2|    53|  udp|  CON|0.001088|   146|   178|  31|  29|    0|    0|     dns| 536764.7|654411.75|    2|    2|   0|   0|         0|         0|     73|     89|          0|          0|      0.0|      0.0| NULL| NULL|    0.001|    0.009|    0.0|    0.0|    0.0|              0|           0|               0|           0|         0|         2|         5|         3|          2|               1|               1|             1|      NULL|    0|\n",
      "|59.166.0.7|12569|149.171.126.5|    53|  udp|  CON| 9.69E-4|   146|   178|  31|  29|    0|    0|     dns| 602683.2| 734778.1|    2|    2|   0|   0|         0|         0|     73|     89|          0|          0|      0.0|      0.0| NULL| NULL|     0.01|    0.003|    0.0|    0.0|    0.0|              0|           0|               0|           0|         0|         3|         1|         2|          3|               3|               1|             1|      NULL|    0|\n",
      "|59.166.0.1|12792|149.171.126.7|    53|  udp|  CON|0.001063|   146|   178|  31|  29|    0|    0|     dns|549388.56| 669802.5|    2|    2|   0|   0|         0|         0|     73|     89|          0|          0|      0.0|      0.0| NULL| NULL|    0.002|    0.003|    0.0|    0.0|    0.0|              0|           0|               0|           0|         0|         5|         3|         2|          4|               3|               1|             1|      NULL|    0|\n",
      "|59.166.0.0|63414|149.171.126.9| 10330|  tcp|  FIN|0.265011|  8928|   320|  31|  29|    4|    1|ftp-data|250283.94|8060.0425|   14|    6| 255| 255|      NULL|      NULL|    638|     53|          0|          0|1725.2916| 71.46425| NULL| NULL|20.385462|52.644802|7.75E-4|6.33E-4|1.42E-4|              0|           0|               0|           0|         0|         3|         6|         6|          5|               1|               1|             2|      NULL|    0|\n",
      "|59.166.0.1|33555|149.171.126.3|  6881|  tcp|  FIN|0.517128|  1540|  1644|  31|  29|    4|    4|       -|22338.764|  24025.0|   16|   18| 255| 255|1741520309|      NULL|     96|     91|          0|          0|2036.1301| 51.91766| NULL| NULL| 34.43333|30.388353|6.54E-4|5.22E-4|1.32E-4|              0|           0|               0|           0|         0|         4|         6|         5|          7|               4|               1|             4|      NULL|    0|\n",
      "|59.166.0.8|10867|149.171.126.8|   111|  udp|  CON|0.005339|   568|   312|  31|  29|    0|    0|       -| 638321.8|350627.47|    4|    4|   0|   0|         0|         0|    142|     78|          0|          0|  1.74302| 1.757632| NULL| NULL|     1.24| 1.252333|    0.0|    0.0|    0.0|              0|           0|               0|           0|         0|        16|         7|         5|          5|               1|               1|             4|      NULL|    0|\n",
      "|59.166.0.8|12411|149.171.126.8|  1715|  udp|  CON|0.001739|   512|   304|  31|  29|    0|    0|       -|1766532.5|1048878.6|    4|    4|   0|   0|         0|         0|    128|     76|          0|          0| 0.630268| 0.318434| NULL| NULL| 0.449667| 0.227667|    0.0|    0.0|    0.0|              0|           0|               0|           0|         0|        16|         7|         5|          5|               1|               1|             4|      NULL|    0|\n",
      "|59.166.0.8|46725|149.171.126.2|    53|  udp|  CON|0.001018|   146|   178|  31|  29|    0|    0|     dns| 573673.9| 699410.6|    2|    2|   0|   0|         0|         0|     73|     89|          0|          0|      0.0|      0.0| NULL| NULL|    0.011|    0.011|    0.0|    0.0|    0.0|              0|           0|               0|           0|         0|         2|         5|         3|          5|               1|               1|             1|      NULL|    0|\n",
      "|59.166.0.1|51562|149.171.126.4|    53|  udp|  CON|0.001044|   146|   178|  31|  29|    0|    0|     dns|559386.94| 681992.3|    2|    2|   0|   0|         0|         0|     73|     89|          0|          0|      0.0|      0.0| NULL| NULL|    0.011|    0.003|    0.0|    0.0|    0.0|              0|           0|               0|           0|         0|         2|         3|         5|          7|               2|               1|             3|      NULL|    0|\n",
      "|59.166.0.3|48838|149.171.126.2|    53|  udp|  CON| 9.87E-4|   146|   178|  31|  29|    0|    0|     dns| 591692.0|721377.94|    2|    2|   0|   0|         0|         0|     73|     89|          0|          0|      0.0|      0.0| NULL| NULL|    0.008|    0.003|    0.0|    0.0|    0.0|              0|           0|               0|           0|         0|         2|         5|         3|          3|               1|               1|             1|      NULL|    0|\n",
      "|59.166.0.0|16907|149.171.126.9|    21|  tcp|  FIN|2.254712|  2934|  3740|  31|  29|   11|   15|     ftp|10211.503|13025.166|   52|   54| 255| 255| 241515551|      NULL|     56|     69|          0|          0|3141.3708| 99.93412| NULL| NULL|44.203648|42.531734|6.61E-4|5.25E-4|1.36E-4|              0|           0|               0|           0|         0|         1|         3|         6|          5|               1|               1|             2|      NULL|    0|\n",
      "|59.166.0.0| 1915|149.171.126.4| 32945|  tcp|  FIN|0.051221|  2854| 29104|  31|  29|    7|   17|       -|436071.16|4450987.0|   46|   48| 255| 255|1921515932|1974066994|     62|    606|          0|          0|78.226654| 76.38798| NULL| NULL| 1.129422|  1.07817| 8.1E-4|5.43E-4|2.67E-4|              0|           0|               0|           0|         0|         7|         2|         5|          5|               1|               1|             2|      NULL|    0|\n",
      "+----------+-----+-------------+------+-----+-----+--------+------+------+----+----+-----+-----+--------+---------+---------+-----+-----+----+----+----------+----------+-------+-------+-----------+-----------+---------+---------+-----+-----+---------+---------+-------+-------+-------+---------------+------------+----------------+------------+----------+----------+----------+----------+-----------+----------------+----------------+--------------+----------+-----+\n",
      "only showing top 20 rows\n",
      "\n"
     ]
    }
   ],
   "source": [
    "df.show()"
   ]
  },
  {
   "cell_type": "code",
   "execution_count": 18,
   "metadata": {},
   "outputs": [
    {
     "name": "stdout",
     "output_type": "stream",
     "text": [
      "root\n",
      " |-- srcip: string (nullable = true)\n",
      " |-- sport: integer (nullable = true)\n",
      " |-- dstip: string (nullable = true)\n",
      " |-- dsport: integer (nullable = true)\n",
      " |-- proto: string (nullable = true)\n",
      " |-- state: string (nullable = true)\n",
      " |-- dur: float (nullable = true)\n",
      " |-- sbytes: integer (nullable = true)\n",
      " |-- dbytes: integer (nullable = true)\n",
      " |-- sttl: integer (nullable = true)\n",
      " |-- dttl: integer (nullable = true)\n",
      " |-- sloss: integer (nullable = true)\n",
      " |-- dloss: integer (nullable = true)\n",
      " |-- service: string (nullable = true)\n",
      " |-- Sload: float (nullable = true)\n",
      " |-- Dload: float (nullable = true)\n",
      " |-- Spkts: integer (nullable = true)\n",
      " |-- Dpkts: integer (nullable = true)\n",
      " |-- swin: integer (nullable = true)\n",
      " |-- dwin: integer (nullable = true)\n",
      " |-- stcpb: integer (nullable = true)\n",
      " |-- dtcpb: integer (nullable = true)\n",
      " |-- smeansz: integer (nullable = true)\n",
      " |-- dmeansz: integer (nullable = true)\n",
      " |-- trans_depth: integer (nullable = true)\n",
      " |-- res_bdy_len: integer (nullable = true)\n",
      " |-- Sjit: float (nullable = true)\n",
      " |-- Djit: float (nullable = true)\n",
      " |-- Stime: timestamp (nullable = true)\n",
      " |-- Ltime: timestamp (nullable = true)\n",
      " |-- Sintpkt: float (nullable = true)\n",
      " |-- Dintpkt: float (nullable = true)\n",
      " |-- tcprtt: float (nullable = true)\n",
      " |-- synack: float (nullable = true)\n",
      " |-- ackdat: float (nullable = true)\n",
      " |-- is_sm_ips_ports: integer (nullable = true)\n",
      " |-- ct_state_ttl: integer (nullable = true)\n",
      " |-- ct_flw_http_mthd: integer (nullable = true)\n",
      " |-- is_ftp_login: integer (nullable = true)\n",
      " |-- ct_ftp_cmd: integer (nullable = true)\n",
      " |-- ct_srv_src: integer (nullable = true)\n",
      " |-- ct_srv_dst: integer (nullable = true)\n",
      " |-- ct_dst_ltm: integer (nullable = true)\n",
      " |-- ct_src_ ltm: integer (nullable = true)\n",
      " |-- ct_src_dport_ltm: integer (nullable = true)\n",
      " |-- ct_dst_sport_ltm: integer (nullable = true)\n",
      " |-- ct_dst_src_ltm: integer (nullable = true)\n",
      " |-- attack_cat: string (nullable = true)\n",
      " |-- Label: integer (nullable = true)\n",
      "\n"
     ]
    }
   ],
   "source": [
    "df.printSchema()"
   ]
  },
  {
   "cell_type": "markdown",
   "metadata": {},
   "source": [
    "* `srcip`: This column contains the source IP address of the network connection.\n",
    "* `sport`: This column contains the source port number used in the network connection.\n",
    "* `dstip`: This column contains the destination IP address of the network connection.\n",
    "* `dsport`: This column contains the destination port number used in the network connection.\n",
    "* `proto`: This column contains the protocol used in the network connection (e.g., TCP, UDP, ICMP).\n",
    "* `state`: This column contains the state of the network connection (e.g., open, closed, filtered).\n",
    "* `dur`: This column contains the duration of the network connection in seconds.\n",
    "* `sbytes`: This column contains the number of bytes sent from the source IP address during the network connection.\n",
    "* `dbytes`: This column contains the number of bytes sent from the destination IP address during the network connection.\n",
    "* `sttl`: This column contains the source IP address Time to Live (TTL) value, which is the maximum number of hops that a packet can travel before being discarded.\n",
    "* `dttl`: This column contains the destination IP address TTL value.\n",
    "* `sloss`: This column contains the number of packets sent from the source IP address that were lost during the network connection.\n",
    "* `dloss`: This column contains the number of packets sent from the destination IP address that were lost during the network connection.\n",
    "* `service`: This column contains the name of the service or application associated with the destination port number.\n",
    "* `Sload`: This column contains the source load, which is the number of connections initiated by the source IP address in the last second.\n",
    "* `Dload`: This column contains the destination load, which is the number of connections initiated to the destination IP address in the last second.\n",
    "* `Spkts`: This column contains the number of packets sent from the source IP address during the network connection.\n",
    "* `Dpkts`: This column contains the number of packets sent from the destination IP address during the network connection.\n",
    "* `swin`: This column contains the source window size, which is the number of bytes that the source IP address is willing to accept in a single packet.\n",
    "* `dwin`: This column contains the destination window size.\n",
    "* `stcpb`: This column contains the source TCP base sequence number, which is the initial sequence number used by the source IP address in the network connection.\n",
    "* `dtcpb`: This column contains the destination TCP base sequence number.\n",
    "* `smeansz`: This column contains the mean segment size sent from the source IP address during the network connection.\n",
    "* `dmeansz`: This column contains the mean segment size sent from the destination IP address during the network connection.\n",
    "* `trans_depth`: This column contains the number of times a packet was retransmitted during the network connection.\n",
    "* `res_bdy_len`: This column contains the length of the response body in bytes.\n",
    "* `Sjit`: This column contains the source jitter, which is the variation in the inter-arrival times of packets sent from the source IP address.\n",
    "* `Djit`: This column contains the destination jitter.\n",
    "* `Sintpkt`: This column contains the source inter-packet arrival time, which is the time interval between the arrival of two consecutive packets sent from the source IP address.\n",
    "* `Dintpkt`: This column contains the destination inter-packet arrival time.\n",
    "* `tcprtt`: This column contains the round-trip time for a TCP packet, which is the time it takes for a packet to travel from the source IP address to the destination IP address and back.\n",
    "* `synack`: This column contains the number of SYN-ACK packets sent during the network connection.\n",
    "* `ackdat`: This column contains the number of ACK packets sent with data during the network connection.\n",
    "* `is_sm_ips_ports`: This column contains a flag indicating whether the source and destination IP addresses and ports are in the same subnet.\n",
    "* `ct_state_ttl`: This column contains the connection state TTL, which is the time-to-live value for the connection state.\n",
    "* `ct_flw_http_mthd`: This column contains the HTTP method used in the network connection (e.g., GET, POST).\n",
    "* `is_ftp_login`: This column contains a flag indicating whether the network connection is an FTP login attempt.\n",
    "* `ct_ftp_cmd`: This column contains the FTP command used in the network connection.\n",
    "* `ct_srv_src`: This column contains the source IP address of the server in the network connection.\n",
    "* `ct_srv_dst`: This column contains the destination IP address of the server in the network connection.\n",
    "* `ct_dst_ltm`: This column contains the last time the destination IP address was seen in the network traffic.\n",
    "* `ct_src_ltm`: This column contains the last time the source IP address was seen in the network traffic.\n",
    "* `ct_src_dport_ltm`: This column contains the last time the source port number was seen in the network traffic.\n",
    "* `ct_dst_sport_ltm`: This column contains the last time the destination port number was seen in the network traffic.\n",
    "* `ct_dst_src_ltm`: This column contains the last time the destination and source IP addresses were seen together in the network traffic.\n",
    "* `attack_cat`: This column contains the attack category for the network connection (e.g., DoS, R2L, U2R, Probe).\n",
    "* `Label`: This column contains the label for the network connection (0 for normal and 1 for attack)."
   ]
  },
  {
   "cell_type": "code",
   "execution_count": 19,
   "metadata": {},
   "outputs": [
    {
     "name": "stderr",
     "output_type": "stream",
     "text": [
      "                                                                                \r"
     ]
    },
    {
     "data": {
      "text/plain": [
       "2539739"
      ]
     },
     "execution_count": 19,
     "metadata": {},
     "output_type": "execute_result"
    }
   ],
   "source": [
    "df.count()"
   ]
  },
  {
   "cell_type": "code",
   "execution_count": 20,
   "metadata": {},
   "outputs": [
    {
     "name": "stderr",
     "output_type": "stream",
     "text": [
      "24/05/13 21:11:15 WARN SparkSession: Using an existing Spark session; only runtime SQL configurations will take effect.\n"
     ]
    }
   ],
   "source": [
    "spark2 = SparkSession.builder \\\n",
    "    .appName(\"Hive Data Analysis\") \\\n",
    "    .enableHiveSupport() \\\n",
    "    .getOrCreate()"
   ]
  },
  {
   "cell_type": "code",
   "execution_count": 21,
   "metadata": {},
   "outputs": [],
   "source": [
    "# Create a Hive table\n",
    "df.createOrReplaceTempView(\"df_hive_table\")"
   ]
  },
  {
   "cell_type": "code",
   "execution_count": 22,
   "metadata": {},
   "outputs": [],
   "source": [
    "def display_analysis(data, column_name):\n",
    "    data = data.sort_values(by='count', ascending=False)\n",
    "\n",
    "    plt.figure(figsize=(25, 6))\n",
    "    plt.bar(data[column_name], data['count'], color='skyblue')\n",
    "    plt.xlabel(column_name.capitalize())\n",
    "    plt.ylabel('Count')\n",
    "    plt.title(f'Count of {column_name.capitalize()}')\n",
    "    plt.xticks(rotation=45, ha='right', fontsize=8)\n",
    "    plt.tight_layout()\n",
    "    plt.show()"
   ]
  },
  {
   "cell_type": "code",
   "execution_count": 23,
   "metadata": {},
   "outputs": [
    {
     "name": "stderr",
     "output_type": "stream",
     "text": [
      "                                                                                \r"
     ]
    }
   ],
   "source": [
    "#Distribution of Protocols used in Network Connections:\n",
    "query1 = \"\"\"\n",
    "    SELECT proto, COUNT(*) AS count\n",
    "    FROM df_hive_table\n",
    "    GROUP BY proto\n",
    "    ORDER BY count DESC;\n",
    "\"\"\"\n",
    "\n",
    "result_df = spark2.sql(query1)\n",
    "\n",
    "result_pd = result_df.toPandas()"
   ]
  },
  {
   "cell_type": "code",
   "execution_count": 24,
   "metadata": {},
   "outputs": [
    {
     "data": {
      "text/html": [
       "<div>\n",
       "<style scoped>\n",
       "    .dataframe tbody tr th:only-of-type {\n",
       "        vertical-align: middle;\n",
       "    }\n",
       "\n",
       "    .dataframe tbody tr th {\n",
       "        vertical-align: top;\n",
       "    }\n",
       "\n",
       "    .dataframe thead th {\n",
       "        text-align: right;\n",
       "    }\n",
       "</style>\n",
       "<table border=\"1\" class=\"dataframe\">\n",
       "  <thead>\n",
       "    <tr style=\"text-align: right;\">\n",
       "      <th></th>\n",
       "      <th>proto</th>\n",
       "      <th>count</th>\n",
       "    </tr>\n",
       "  </thead>\n",
       "  <tbody>\n",
       "    <tr>\n",
       "      <th>0</th>\n",
       "      <td>tcp</td>\n",
       "      <td>1495074</td>\n",
       "    </tr>\n",
       "    <tr>\n",
       "      <th>1</th>\n",
       "      <td>udp</td>\n",
       "      <td>990435</td>\n",
       "    </tr>\n",
       "    <tr>\n",
       "      <th>2</th>\n",
       "      <td>unas</td>\n",
       "      <td>16202</td>\n",
       "    </tr>\n",
       "    <tr>\n",
       "      <th>3</th>\n",
       "      <td>arp</td>\n",
       "      <td>10064</td>\n",
       "    </tr>\n",
       "    <tr>\n",
       "      <th>4</th>\n",
       "      <td>ospf</td>\n",
       "      <td>7798</td>\n",
       "    </tr>\n",
       "    <tr>\n",
       "      <th>...</th>\n",
       "      <td>...</td>\n",
       "      <td>...</td>\n",
       "    </tr>\n",
       "    <tr>\n",
       "      <th>129</th>\n",
       "      <td>xns-idp</td>\n",
       "      <td>137</td>\n",
       "    </tr>\n",
       "    <tr>\n",
       "      <th>130</th>\n",
       "      <td>encap</td>\n",
       "      <td>137</td>\n",
       "    </tr>\n",
       "    <tr>\n",
       "      <th>131</th>\n",
       "      <td>igmp</td>\n",
       "      <td>64</td>\n",
       "    </tr>\n",
       "    <tr>\n",
       "      <th>132</th>\n",
       "      <td>udt</td>\n",
       "      <td>8</td>\n",
       "    </tr>\n",
       "    <tr>\n",
       "      <th>133</th>\n",
       "      <td>rtp</td>\n",
       "      <td>7</td>\n",
       "    </tr>\n",
       "  </tbody>\n",
       "</table>\n",
       "<p>134 rows × 2 columns</p>\n",
       "</div>"
      ],
      "text/plain": [
       "       proto    count\n",
       "0        tcp  1495074\n",
       "1        udp   990435\n",
       "2       unas    16202\n",
       "3        arp    10064\n",
       "4       ospf     7798\n",
       "..       ...      ...\n",
       "129  xns-idp      137\n",
       "130    encap      137\n",
       "131     igmp       64\n",
       "132      udt        8\n",
       "133      rtp        7\n",
       "\n",
       "[134 rows x 2 columns]"
      ]
     },
     "execution_count": 24,
     "metadata": {},
     "output_type": "execute_result"
    }
   ],
   "source": [
    "result_pd"
   ]
  },
  {
   "cell_type": "code",
   "execution_count": 25,
   "metadata": {},
   "outputs": [
    {
     "data": {
      "image/png": "[encoded data removed]",
      "text/plain": [
       "<Figure size 2500x600 with 1 Axes>"
      ]
     },
     "metadata": {},
     "output_type": "display_data"
    }
   ],
   "source": [
    "display_analysis(result_pd, 'proto')"
   ]
  },
  {
   "cell_type": "code",
   "execution_count": 26,
   "metadata": {},
   "outputs": [
    {
     "name": "stderr",
     "output_type": "stream",
     "text": [
      "24/05/13 21:11:21 WARN GarbageCollectionMetrics: To enable non-built-in garbage collector(s) List(G1 Concurrent GC), users should configure it(them) to spark.eventLog.gcMetrics.youngGenerationGarbageCollectors or spark.eventLog.gcMetrics.oldGenerationGarbageCollectors\n",
      "                                                                                \r"
     ]
    }
   ],
   "source": [
    "#Top 10 Attack Categories:\n",
    "query1 = \"\"\"\n",
    "    SELECT attack_cat, COUNT(*) AS count\n",
    "    FROM df_hive_table\n",
    "    WHERE Label = 1\n",
    "    GROUP BY attack_cat\n",
    "    ORDER BY count DESC\n",
    "    LIMIT 10;\n",
    "\"\"\"\n",
    "\n",
    "result_df = spark2.sql(query1)\n",
    "\n",
    "result_pd = result_df.toPandas()"
   ]
  },
  {
   "cell_type": "code",
   "execution_count": 27,
   "metadata": {},
   "outputs": [
    {
     "data": {
      "text/html": [
       "<div>\n",
       "<style scoped>\n",
       "    .dataframe tbody tr th:only-of-type {\n",
       "        vertical-align: middle;\n",
       "    }\n",
       "\n",
       "    .dataframe tbody tr th {\n",
       "        vertical-align: top;\n",
       "    }\n",
       "\n",
       "    .dataframe thead th {\n",
       "        text-align: right;\n",
       "    }\n",
       "</style>\n",
       "<table border=\"1\" class=\"dataframe\">\n",
       "  <thead>\n",
       "    <tr style=\"text-align: right;\">\n",
       "      <th></th>\n",
       "      <th>attack_cat</th>\n",
       "      <th>count</th>\n",
       "    </tr>\n",
       "  </thead>\n",
       "  <tbody>\n",
       "    <tr>\n",
       "      <th>0</th>\n",
       "      <td>Generic</td>\n",
       "      <td>215481</td>\n",
       "    </tr>\n",
       "    <tr>\n",
       "      <th>1</th>\n",
       "      <td>Exploits</td>\n",
       "      <td>44525</td>\n",
       "    </tr>\n",
       "    <tr>\n",
       "      <th>2</th>\n",
       "      <td>Fuzzers</td>\n",
       "      <td>19195</td>\n",
       "    </tr>\n",
       "    <tr>\n",
       "      <th>3</th>\n",
       "      <td>DoS</td>\n",
       "      <td>16353</td>\n",
       "    </tr>\n",
       "    <tr>\n",
       "      <th>4</th>\n",
       "      <td>Reconnaissance</td>\n",
       "      <td>12228</td>\n",
       "    </tr>\n",
       "    <tr>\n",
       "      <th>5</th>\n",
       "      <td>Fuzzers</td>\n",
       "      <td>5051</td>\n",
       "    </tr>\n",
       "    <tr>\n",
       "      <th>6</th>\n",
       "      <td>Analysis</td>\n",
       "      <td>2677</td>\n",
       "    </tr>\n",
       "    <tr>\n",
       "      <th>7</th>\n",
       "      <td>Backdoor</td>\n",
       "      <td>1795</td>\n",
       "    </tr>\n",
       "    <tr>\n",
       "      <th>8</th>\n",
       "      <td>Reconnaissance</td>\n",
       "      <td>1759</td>\n",
       "    </tr>\n",
       "    <tr>\n",
       "      <th>9</th>\n",
       "      <td>Shellcode</td>\n",
       "      <td>1288</td>\n",
       "    </tr>\n",
       "  </tbody>\n",
       "</table>\n",
       "</div>"
      ],
      "text/plain": [
       "        attack_cat   count\n",
       "0          Generic  215481\n",
       "1         Exploits   44525\n",
       "2         Fuzzers    19195\n",
       "3              DoS   16353\n",
       "4  Reconnaissance    12228\n",
       "5          Fuzzers    5051\n",
       "6         Analysis    2677\n",
       "7         Backdoor    1795\n",
       "8   Reconnaissance    1759\n",
       "9       Shellcode     1288"
      ]
     },
     "execution_count": 27,
     "metadata": {},
     "output_type": "execute_result"
    }
   ],
   "source": [
    "result_pd"
   ]
  },
  {
   "cell_type": "code",
   "execution_count": 28,
   "metadata": {},
   "outputs": [
    {
     "data": {
      "image/png": "[encoded data removed]",
      "text/plain": [
       "<Figure size 2500x600 with 1 Axes>"
      ]
     },
     "metadata": {},
     "output_type": "display_data"
    }
   ],
   "source": [
    "display_analysis(result_pd, 'attack_cat')"
   ]
  },
  {
   "cell_type": "code",
   "execution_count": 29,
   "metadata": {},
   "outputs": [
    {
     "name": "stderr",
     "output_type": "stream",
     "text": [
      "                                                                                \r"
     ]
    }
   ],
   "source": [
    "#Average Source Bytes Sent per Attack Category:\n",
    "query1 = \"\"\"\n",
    "    SELECT attack_cat, AVG(sbytes) AS avg_sbytes\n",
    "    FROM df_hive_table\n",
    "    WHERE Label = 1\n",
    "    GROUP BY attack_cat;\n",
    "\"\"\"\n",
    "\n",
    "result_df = spark2.sql(query1)\n",
    "\n",
    "result_pd = result_df.toPandas()"
   ]
  },
  {
   "cell_type": "code",
   "execution_count": 30,
   "metadata": {},
   "outputs": [
    {
     "data": {
      "text/html": [
       "<div>\n",
       "<style scoped>\n",
       "    .dataframe tbody tr th:only-of-type {\n",
       "        vertical-align: middle;\n",
       "    }\n",
       "\n",
       "    .dataframe tbody tr th {\n",
       "        vertical-align: top;\n",
       "    }\n",
       "\n",
       "    .dataframe thead th {\n",
       "        text-align: right;\n",
       "    }\n",
       "</style>\n",
       "<table border=\"1\" class=\"dataframe\">\n",
       "  <thead>\n",
       "    <tr style=\"text-align: right;\">\n",
       "      <th></th>\n",
       "      <th>attack_cat</th>\n",
       "      <th>avg_sbytes</th>\n",
       "    </tr>\n",
       "  </thead>\n",
       "  <tbody>\n",
       "    <tr>\n",
       "      <th>0</th>\n",
       "      <td>Worms</td>\n",
       "      <td>2255.775862</td>\n",
       "    </tr>\n",
       "    <tr>\n",
       "      <th>1</th>\n",
       "      <td>Analysis</td>\n",
       "      <td>839.645125</td>\n",
       "    </tr>\n",
       "    <tr>\n",
       "      <th>2</th>\n",
       "      <td>Shellcode</td>\n",
       "      <td>533.074534</td>\n",
       "    </tr>\n",
       "    <tr>\n",
       "      <th>3</th>\n",
       "      <td>DoS</td>\n",
       "      <td>18360.793799</td>\n",
       "    </tr>\n",
       "    <tr>\n",
       "      <th>4</th>\n",
       "      <td>Reconnaissance</td>\n",
       "      <td>784.400147</td>\n",
       "    </tr>\n",
       "    <tr>\n",
       "      <th>5</th>\n",
       "      <td>Backdoor</td>\n",
       "      <td>1803.989415</td>\n",
       "    </tr>\n",
       "    <tr>\n",
       "      <th>6</th>\n",
       "      <td>Fuzzers</td>\n",
       "      <td>7032.913884</td>\n",
       "    </tr>\n",
       "    <tr>\n",
       "      <th>7</th>\n",
       "      <td>Exploits</td>\n",
       "      <td>29655.004065</td>\n",
       "    </tr>\n",
       "    <tr>\n",
       "      <th>8</th>\n",
       "      <td>Generic</td>\n",
       "      <td>356.961983</td>\n",
       "    </tr>\n",
       "    <tr>\n",
       "      <th>9</th>\n",
       "      <td>Shellcode</td>\n",
       "      <td>531.452915</td>\n",
       "    </tr>\n",
       "    <tr>\n",
       "      <th>10</th>\n",
       "      <td>Backdoors</td>\n",
       "      <td>569.149813</td>\n",
       "    </tr>\n",
       "    <tr>\n",
       "      <th>11</th>\n",
       "      <td>Fuzzers</td>\n",
       "      <td>5743.516135</td>\n",
       "    </tr>\n",
       "    <tr>\n",
       "      <th>12</th>\n",
       "      <td>Reconnaissance</td>\n",
       "      <td>521.844798</td>\n",
       "    </tr>\n",
       "  </tbody>\n",
       "</table>\n",
       "</div>"
      ],
      "text/plain": [
       "         attack_cat    avg_sbytes\n",
       "0             Worms   2255.775862\n",
       "1          Analysis    839.645125\n",
       "2        Shellcode     533.074534\n",
       "3               DoS  18360.793799\n",
       "4   Reconnaissance     784.400147\n",
       "5          Backdoor   1803.989415\n",
       "6          Fuzzers    7032.913884\n",
       "7          Exploits  29655.004065\n",
       "8           Generic    356.961983\n",
       "9         Shellcode    531.452915\n",
       "10        Backdoors    569.149813\n",
       "11          Fuzzers   5743.516135\n",
       "12   Reconnaissance    521.844798"
      ]
     },
     "execution_count": 30,
     "metadata": {},
     "output_type": "execute_result"
    }
   ],
   "source": [
    "result_pd"
   ]
  },
  {
   "cell_type": "code",
   "execution_count": 31,
   "metadata": {},
   "outputs": [
    {
     "data": {
      "image/png": "[encoded data removed]",
      "text/plain": [
       "<Figure size 1000x600 with 1 Axes>"
      ]
     },
     "metadata": {},
     "output_type": "display_data"
    }
   ],
   "source": [
    "# Grouping the result_pd by attack category and taking the mean of avg_sbytes\n",
    "avg_bytes_by_attack = result_pd.groupby('attack_cat')['avg_sbytes'].mean().reset_index()\n",
    "avg_bytes_by_attack = avg_bytes_by_attack.sort_values(by='avg_sbytes', ascending=False)\n",
    "\n",
    "plt.figure(figsize=(10, 6))\n",
    "plt.bar(avg_bytes_by_attack['attack_cat'], avg_bytes_by_attack['avg_sbytes'], color='skyblue')\n",
    "plt.xlabel('Attack Category')\n",
    "plt.ylabel('Average Bytes Transferred')\n",
    "plt.title('Average Bytes Transferred by Attack Category')\n",
    "plt.xticks(rotation=45)\n",
    "plt.tight_layout()\n",
    "plt.show()"
   ]
  },
  {
   "cell_type": "code",
   "execution_count": 32,
   "metadata": {},
   "outputs": [
    {
     "name": "stderr",
     "output_type": "stream",
     "text": [
      "                                                                                \r"
     ]
    }
   ],
   "source": [
    "#TCP Round-Trip Time Distribution:\n",
    "query1 = \"\"\"\n",
    "    SELECT tcprtt\n",
    "    FROM df_hive_table\n",
    "    WHERE proto = 'tcp'\n",
    "    AND tcprtt IS NOT NULL;\n",
    "\"\"\"\n",
    "\n",
    "result_df = spark2.sql(query1)\n",
    "\n",
    "result_pd = result_df.toPandas()"
   ]
  },
  {
   "cell_type": "code",
   "execution_count": 33,
   "metadata": {},
   "outputs": [
    {
     "data": {
      "text/html": [
       "<div>\n",
       "<style scoped>\n",
       "    .dataframe tbody tr th:only-of-type {\n",
       "        vertical-align: middle;\n",
       "    }\n",
       "\n",
       "    .dataframe tbody tr th {\n",
       "        vertical-align: top;\n",
       "    }\n",
       "\n",
       "    .dataframe thead th {\n",
       "        text-align: right;\n",
       "    }\n",
       "</style>\n",
       "<table border=\"1\" class=\"dataframe\">\n",
       "  <thead>\n",
       "    <tr style=\"text-align: right;\">\n",
       "      <th></th>\n",
       "      <th>tcprtt</th>\n",
       "    </tr>\n",
       "  </thead>\n",
       "  <tbody>\n",
       "    <tr>\n",
       "      <th>0</th>\n",
       "      <td>0.000597</td>\n",
       "    </tr>\n",
       "    <tr>\n",
       "      <th>1</th>\n",
       "      <td>0.000680</td>\n",
       "    </tr>\n",
       "    <tr>\n",
       "      <th>2</th>\n",
       "      <td>0.001250</td>\n",
       "    </tr>\n",
       "    <tr>\n",
       "      <th>3</th>\n",
       "      <td>0.000684</td>\n",
       "    </tr>\n",
       "    <tr>\n",
       "      <th>4</th>\n",
       "      <td>0.000619</td>\n",
       "    </tr>\n",
       "    <tr>\n",
       "      <th>...</th>\n",
       "      <td>...</td>\n",
       "    </tr>\n",
       "    <tr>\n",
       "      <th>1495069</th>\n",
       "      <td>0.000669</td>\n",
       "    </tr>\n",
       "    <tr>\n",
       "      <th>1495070</th>\n",
       "      <td>0.000671</td>\n",
       "    </tr>\n",
       "    <tr>\n",
       "      <th>1495071</th>\n",
       "      <td>0.000839</td>\n",
       "    </tr>\n",
       "    <tr>\n",
       "      <th>1495072</th>\n",
       "      <td>0.000822</td>\n",
       "    </tr>\n",
       "    <tr>\n",
       "      <th>1495073</th>\n",
       "      <td>0.000677</td>\n",
       "    </tr>\n",
       "  </tbody>\n",
       "</table>\n",
       "<p>1495074 rows × 1 columns</p>\n",
       "</div>"
      ],
      "text/plain": [
       "           tcprtt\n",
       "0        0.000597\n",
       "1        0.000680\n",
       "2        0.001250\n",
       "3        0.000684\n",
       "4        0.000619\n",
       "...           ...\n",
       "1495069  0.000669\n",
       "1495070  0.000671\n",
       "1495071  0.000839\n",
       "1495072  0.000822\n",
       "1495073  0.000677\n",
       "\n",
       "[1495074 rows x 1 columns]"
      ]
     },
     "execution_count": 33,
     "metadata": {},
     "output_type": "execute_result"
    }
   ],
   "source": [
    "result_pd"
   ]
  },
  {
   "cell_type": "code",
   "execution_count": 34,
   "metadata": {},
   "outputs": [
    {
     "data": {
      "image/png": "[encoded data removed]",
      "text/plain": [
       "<Figure size 900x600 with 1 Axes>"
      ]
     },
     "metadata": {},
     "output_type": "display_data"
    }
   ],
   "source": [
    "plt.figure(figsize=(9, 6))\n",
    "sns.kdeplot(result_pd, fill=True, color='skyblue')\n",
    "plt.xlabel('TCP Round-trip Time')\n",
    "plt.ylabel('Density')\n",
    "plt.title('Density Plot of TCP Round-trip Time')\n",
    "plt.tight_layout()\n",
    "plt.show()"
   ]
  },
  {
   "cell_type": "code",
   "execution_count": 35,
   "metadata": {},
   "outputs": [],
   "source": [
    "# del spark2"
   ]
  },
  {
   "cell_type": "markdown",
   "metadata": {},
   "source": [
    "# Check for Missing values"
   ]
  },
  {
   "cell_type": "code",
   "execution_count": 36,
   "metadata": {},
   "outputs": [],
   "source": [
    "def check_missing_values(dataframe):\n",
    "    total_rows = dataframe.count()\n",
    "\n",
    "    missing_values = dataframe.select([count(when(col(c).isNull(), c)).alias(c) for c in dataframe.columns])\n",
    "    missing_percentage = missing_values.select([(col(c) / total_rows * 100).alias(c) for c in dataframe.columns])\n",
    "    \n",
    "    missing_values.show()\n",
    "    missing_percentage.show()"
   ]
  },
  {
   "cell_type": "code",
   "execution_count": 37,
   "metadata": {},
   "outputs": [
    {
     "name": "stderr",
     "output_type": "stream",
     "text": [
      "                                                                                \r"
     ]
    },
    {
     "name": "stdout",
     "output_type": "stream",
     "text": [
      "+-----+-----+-----+------+-----+-----+---+------+------+----+----+-----+-----+-------+-----+-----+-----+-----+----+----+------+------+-------+-------+-----------+-----------+----+----+-------+-------+-------+-------+------+------+------+---------------+------------+----------------+------------+----------+----------+----------+----------+-----------+----------------+----------------+--------------+----------+-----+\n",
      "|srcip|sport|dstip|dsport|proto|state|dur|sbytes|dbytes|sttl|dttl|sloss|dloss|service|Sload|Dload|Spkts|Dpkts|swin|dwin| stcpb| dtcpb|smeansz|dmeansz|trans_depth|res_bdy_len|Sjit|Djit|  Stime|  Ltime|Sintpkt|Dintpkt|tcprtt|synack|ackdat|is_sm_ips_ports|ct_state_ttl|ct_flw_http_mthd|is_ftp_login|ct_ftp_cmd|ct_srv_src|ct_srv_dst|ct_dst_ltm|ct_src_ ltm|ct_src_dport_ltm|ct_dst_sport_ltm|ct_dst_src_ltm|attack_cat|Label|\n",
      "+-----+-----+-----+------+-----+-----+---+------+------+----+----+-----+-----+-------+-----+-----+-----+-----+----+----+------+------+-------+-------+-----------+-----------+----+----+-------+-------+-------+-------+------+------+------+---------------+------------+----------------+------------+----------+----------+----------+----------+-----------+----------------+----------------+--------------+----------+-----+\n",
      "|    0|    0|    0|     0|    0|    0|  0|     0|     0|   0|   0|    0|    0|      0|    0|    0|    0|    0|   0|   0|745798|746426|      0|      0|          0|          0|   0|   0|2539739|2539739|      0|      0|     0|     0|     0|              0|           0|               0|           0|         0|         0|         0|         0|          0|               0|               0|             0|   2218456|    0|\n",
      "+-----+-----+-----+------+-----+-----+---+------+------+----+----+-----+-----+-------+-----+-----+-----+-----+----+----+------+------+-------+-------+-----------+-----------+----+----+-------+-------+-------+-------+------+------+------+---------------+------------+----------------+------------+----------+----------+----------+----------+-----------+----------------+----------------+--------------+----------+-----+\n",
      "\n"
     ]
    },
    {
     "name": "stderr",
     "output_type": "stream",
     "text": [
      "[Stage 33:=============================>                            (4 + 4) / 8]\r"
     ]
    },
    {
     "name": "stdout",
     "output_type": "stream",
     "text": [
      "+-----+-----+-----+------+-----+-----+---+------+------+----+----+-----+-----+-------+-----+-----+-----+-----+----+----+------------------+------------------+-------+-------+-----------+-----------+----+----+-----+-----+-------+-------+------+------+------+---------------+------------+----------------+------------+----------+----------+----------+----------+-----------+----------------+----------------+--------------+-----------------+-----+\n",
      "|srcip|sport|dstip|dsport|proto|state|dur|sbytes|dbytes|sttl|dttl|sloss|dloss|service|Sload|Dload|Spkts|Dpkts|swin|dwin|             stcpb|             dtcpb|smeansz|dmeansz|trans_depth|res_bdy_len|Sjit|Djit|Stime|Ltime|Sintpkt|Dintpkt|tcprtt|synack|ackdat|is_sm_ips_ports|ct_state_ttl|ct_flw_http_mthd|is_ftp_login|ct_ftp_cmd|ct_srv_src|ct_srv_dst|ct_dst_ltm|ct_src_ ltm|ct_src_dport_ltm|ct_dst_sport_ltm|ct_dst_src_ltm|       attack_cat|Label|\n",
      "+-----+-----+-----+------+-----+-----+---+------+------+----+----+-----+-----+-------+-----+-----+-----+-----+----+----+------------------+------------------+-------+-------+-----------+-----------+----+----+-----+-----+-------+-------+------+------+------+---------------+------------+----------------+------------+----------+----------+----------+----------+-----------+----------------+----------------+--------------+-----------------+-----+\n",
      "|  0.0|  0.0|  0.0|   0.0|  0.0|  0.0|0.0|   0.0|   0.0| 0.0| 0.0|  0.0|  0.0|    0.0|  0.0|  0.0|  0.0|  0.0| 0.0| 0.0|29.365143426155203|29.389870376444193|    0.0|    0.0|        0.0|        0.0| 0.0| 0.0|100.0|100.0|    0.0|    0.0|   0.0|   0.0|   0.0|            0.0|         0.0|             0.0|         0.0|       0.0|       0.0|       0.0|       0.0|        0.0|             0.0|             0.0|           0.0|87.34976310557896|  0.0|\n",
      "+-----+-----+-----+------+-----+-----+---+------+------+----+----+-----+-----+-------+-----+-----+-----+-----+----+----+------------------+------------------+-------+-------+-----------+-----------+----+----+-----+-----+-------+-------+------+------+------+---------------+------------+----------------+------------+----------+----------+----------+----------+-----------+----------------+----------------+--------------+-----------------+-----+\n",
      "\n"
     ]
    },
    {
     "name": "stderr",
     "output_type": "stream",
     "text": [
      "                                                                                \r"
     ]
    }
   ],
   "source": [
    "check_missing_values(df)"
   ]
  },
  {
   "cell_type": "markdown",
   "metadata": {},
   "source": [
    "From the analysis above, low missing values in the stcpb, dtcpb which will be replaced with zero(0), Stime 100%, Ltime 100%, and attack_cat 87% has the highest number of missing values\n",
    "I will drop the Stime and Ltime columns, so to prevent removing the entire entries, and replace the attack_cat missing values with normal as the attack_cat is critical for the multiclassification model development."
   ]
  },
  {
   "cell_type": "code",
   "execution_count": 38,
   "metadata": {},
   "outputs": [],
   "source": [
    "df = df.drop('Stime', 'Ltime')"
   ]
  },
  {
   "cell_type": "code",
   "execution_count": 39,
   "metadata": {},
   "outputs": [
    {
     "name": "stderr",
     "output_type": "stream",
     "text": [
      "[Stage 36:>                                                         (0 + 8) / 8]\r"
     ]
    },
    {
     "name": "stdout",
     "output_type": "stream",
     "text": [
      "+--------------+\n",
      "|    attack_cat|\n",
      "+--------------+\n",
      "|       generic|\n",
      "|     shellcode|\n",
      "|        normal|\n",
      "|         worms|\n",
      "|reconnaissance|\n",
      "|      analysis|\n",
      "|       fuzzers|\n",
      "|           dos|\n",
      "|      backdoor|\n",
      "|      exploits|\n",
      "|     backdoors|\n",
      "+--------------+\n",
      "\n"
     ]
    },
    {
     "name": "stderr",
     "output_type": "stream",
     "text": [
      "                                                                                \r"
     ]
    }
   ],
   "source": [
    "from pyspark.sql.functions import col, replace, lower, trim\n",
    "\n",
    "df_clean = df.fillna('normal', subset=['attack_cat'])\n",
    "# Convert the \"attack_cat\" column to lowercase and remove leading/trailing spaces\n",
    "df_clean = df_clean.withColumn(\"attack_cat\", lower(trim(col(\"attack_cat\"))))\n",
    "\n",
    "df_clean.select(\"attack_cat\").distinct().show()"
   ]
  },
  {
   "cell_type": "code",
   "execution_count": 40,
   "metadata": {},
   "outputs": [],
   "source": [
    "# df_clean = df_clean.dropna(subset=[c for c in df_clean.columns], how='any')\n",
    "df_clean = df_clean.fillna(0, subset=[c for c in df_clean.columns])"
   ]
  },
  {
   "cell_type": "code",
   "execution_count": 41,
   "metadata": {},
   "outputs": [
    {
     "name": "stderr",
     "output_type": "stream",
     "text": [
      "                                                                                \r"
     ]
    },
    {
     "name": "stdout",
     "output_type": "stream",
     "text": [
      "+-----+-----+-----+------+-----+-----+---+------+------+----+----+-----+-----+-------+-----+-----+-----+-----+----+----+-----+-----+-------+-------+-----------+-----------+----+----+-------+-------+------+------+------+---------------+------------+----------------+------------+----------+----------+----------+----------+-----------+----------------+----------------+--------------+----------+-----+\n",
      "|srcip|sport|dstip|dsport|proto|state|dur|sbytes|dbytes|sttl|dttl|sloss|dloss|service|Sload|Dload|Spkts|Dpkts|swin|dwin|stcpb|dtcpb|smeansz|dmeansz|trans_depth|res_bdy_len|Sjit|Djit|Sintpkt|Dintpkt|tcprtt|synack|ackdat|is_sm_ips_ports|ct_state_ttl|ct_flw_http_mthd|is_ftp_login|ct_ftp_cmd|ct_srv_src|ct_srv_dst|ct_dst_ltm|ct_src_ ltm|ct_src_dport_ltm|ct_dst_sport_ltm|ct_dst_src_ltm|attack_cat|Label|\n",
      "+-----+-----+-----+------+-----+-----+---+------+------+----+----+-----+-----+-------+-----+-----+-----+-----+----+----+-----+-----+-------+-------+-----------+-----------+----+----+-------+-------+------+------+------+---------------+------------+----------------+------------+----------+----------+----------+----------+-----------+----------------+----------------+--------------+----------+-----+\n",
      "|    0|    0|    0|     0|    0|    0|  0|     0|     0|   0|   0|    0|    0|      0|    0|    0|    0|    0|   0|   0|    0|    0|      0|      0|          0|          0|   0|   0|      0|      0|     0|     0|     0|              0|           0|               0|           0|         0|         0|         0|         0|          0|               0|               0|             0|         0|    0|\n",
      "+-----+-----+-----+------+-----+-----+---+------+------+----+----+-----+-----+-------+-----+-----+-----+-----+----+----+-----+-----+-------+-------+-----------+-----------+----+----+-------+-------+------+------+------+---------------+------------+----------------+------------+----------+----------+----------+----------+-----------+----------------+----------------+--------------+----------+-----+\n",
      "\n"
     ]
    },
    {
     "name": "stderr",
     "output_type": "stream",
     "text": [
      "[Stage 45:>                                                         (0 + 8) / 8]\r"
     ]
    },
    {
     "name": "stdout",
     "output_type": "stream",
     "text": [
      "+-----+-----+-----+------+-----+-----+---+------+------+----+----+-----+-----+-------+-----+-----+-----+-----+----+----+-----+-----+-------+-------+-----------+-----------+----+----+-------+-------+------+------+------+---------------+------------+----------------+------------+----------+----------+----------+----------+-----------+----------------+----------------+--------------+----------+-----+\n",
      "|srcip|sport|dstip|dsport|proto|state|dur|sbytes|dbytes|sttl|dttl|sloss|dloss|service|Sload|Dload|Spkts|Dpkts|swin|dwin|stcpb|dtcpb|smeansz|dmeansz|trans_depth|res_bdy_len|Sjit|Djit|Sintpkt|Dintpkt|tcprtt|synack|ackdat|is_sm_ips_ports|ct_state_ttl|ct_flw_http_mthd|is_ftp_login|ct_ftp_cmd|ct_srv_src|ct_srv_dst|ct_dst_ltm|ct_src_ ltm|ct_src_dport_ltm|ct_dst_sport_ltm|ct_dst_src_ltm|attack_cat|Label|\n",
      "+-----+-----+-----+------+-----+-----+---+------+------+----+----+-----+-----+-------+-----+-----+-----+-----+----+----+-----+-----+-------+-------+-----------+-----------+----+----+-------+-------+------+------+------+---------------+------------+----------------+------------+----------+----------+----------+----------+-----------+----------------+----------------+--------------+----------+-----+\n",
      "|  0.0|  0.0|  0.0|   0.0|  0.0|  0.0|0.0|   0.0|   0.0| 0.0| 0.0|  0.0|  0.0|    0.0|  0.0|  0.0|  0.0|  0.0| 0.0| 0.0|  0.0|  0.0|    0.0|    0.0|        0.0|        0.0| 0.0| 0.0|    0.0|    0.0|   0.0|   0.0|   0.0|            0.0|         0.0|             0.0|         0.0|       0.0|       0.0|       0.0|       0.0|        0.0|             0.0|             0.0|           0.0|       0.0|  0.0|\n",
      "+-----+-----+-----+------+-----+-----+---+------+------+----+----+-----+-----+-------+-----+-----+-----+-----+----+----+-----+-----+-------+-------+-----------+-----------+----+----+-------+-------+------+------+------+---------------+------------+----------------+------------+----------+----------+----------+----------+-----------+----------------+----------------+--------------+----------+-----+\n",
      "\n"
     ]
    },
    {
     "name": "stderr",
     "output_type": "stream",
     "text": [
      "                                                                                \r"
     ]
    }
   ],
   "source": [
    "check_missing_values(df_clean)"
   ]
  },
  {
   "cell_type": "code",
   "execution_count": 42,
   "metadata": {},
   "outputs": [
    {
     "name": "stdout",
     "output_type": "stream",
     "text": [
      "+----------+-----+-------------+------+-----+-----+--------+------+------+----+----+-----+-----+-------+---------+---------+-----+-----+----+----+---------+----------+-------+-------+-----------+-----------+---------+---------+---------+--------+-------+-------+-------+---------------+------------+----------------+------------+----------+----------+----------+----------+-----------+----------------+----------------+--------------+----------+-----+\n",
      "|     srcip|sport|        dstip|dsport|proto|state|     dur|sbytes|dbytes|sttl|dttl|sloss|dloss|service|    Sload|    Dload|Spkts|Dpkts|swin|dwin|    stcpb|     dtcpb|smeansz|dmeansz|trans_depth|res_bdy_len|     Sjit|     Djit|  Sintpkt| Dintpkt| tcprtt| synack| ackdat|is_sm_ips_ports|ct_state_ttl|ct_flw_http_mthd|is_ftp_login|ct_ftp_cmd|ct_srv_src|ct_srv_dst|ct_dst_ltm|ct_src_ ltm|ct_src_dport_ltm|ct_dst_sport_ltm|ct_dst_src_ltm|attack_cat|Label|\n",
      "+----------+-----+-------------+------+-----+-----+--------+------+------+----+----+-----+-----+-------+---------+---------+-----+-----+----+----+---------+----------+-------+-------+-----------+-----------+---------+---------+---------+--------+-------+-------+-------+---------------+------------+----------------+------------+----------+----------+----------+----------+-----------+----------------+----------------+--------------+----------+-----+\n",
      "|59.166.0.3|56716|149.171.126.8|   143|  tcp|  FIN| 0.82546|  7812| 16236|  31|  29|   30|   32|      -| 75090.25|156111.73|  122|  126| 255| 255|        0|         0|     64|    129|          0|          0|445.25928| 474.9451| 6.819091|6.599896|5.97E-4|4.69E-4|1.28E-4|              0|           0|               0|           0|         0|         2|         7|         1|          4|               1|               1|             1|    normal|    0|\n",
      "|59.166.0.0|43467|149.171.126.6| 49729|  tcp|  FIN|0.101815|  4238| 65628|  31|  29|    7|   30|      -|328438.84|5087030.5|   72|   74| 255| 255|961515433|         0|     59|    887|          0|          0|      0.0| 91.57957| 1.429493|1.387192| 6.8E-4|5.46E-4|1.34E-4|              0|           0|               0|           0|         0|         7|         4|         1|          6|               1|               1|             1|    normal|    0|\n",
      "|59.166.0.5|41289|149.171.126.2|  9574|  tcp|  FIN|0.044003|  2750| 29104|  31|  29|    7|   17|      -|488693.97|5181101.5|   44|   48| 255| 255|        0|1191410228|     63|    606|          0|          0| 78.12697|62.206562| 1.014977| 0.92583|0.00125|4.85E-4|7.65E-4|              0|           0|               0|           0|         0|         3|         5|         3|          3|               1|               1|             1|    normal|    0|\n",
      "|59.166.0.9|43785|149.171.126.0|  6881|  tcp|  FIN| 2.79083| 10476|395734|  31|  29|   16|  143|      -|29863.518|1130840.8|  180|  320| 255| 255|        0|         0|     58|   1237|          0|          0|2707.4927| 2018.976|15.589459|8.747012|6.84E-4|5.32E-4|1.52E-4|              0|           0|               0|           0|         0|        11|         4|         3|          2|               1|               1|             1|    normal|    0|\n",
      "|59.166.0.8|40691|149.171.126.9|  6881|  tcp|  FIN|  2.6335| 13350|548216|  31|  29|   21|  197|      -| 40381.24|1661560.6|  232|  438| 255| 255|  1518931|  18267719|     58|   1252|          0|          0| 718.3368|500.57288|11.399026|6.025183|6.19E-4|4.89E-4| 1.3E-4|              0|           0|               0|           0|         0|        16|         7|         7|          1|               1|               1|             1|    normal|    0|\n",
      "+----------+-----+-------------+------+-----+-----+--------+------+------+----+----+-----+-----+-------+---------+---------+-----+-----+----+----+---------+----------+-------+-------+-----------+-----------+---------+---------+---------+--------+-------+-------+-------+---------------+------------+----------------+------------+----------+----------+----------+----------+-----------+----------------+----------------+--------------+----------+-----+\n",
      "only showing top 5 rows\n",
      "\n"
     ]
    }
   ],
   "source": [
    "df_clean.show(5)"
   ]
  },
  {
   "cell_type": "markdown",
   "metadata": {},
   "source": [
    "# Categorical columns:\n",
    "`proto`, `service`, `state`\n",
    "# Numerical but binary: \n",
    "`is_sm_ips_ports`, `is_ftp_login`"
   ]
  },
  {
   "cell_type": "code",
   "execution_count": 43,
   "metadata": {},
   "outputs": [
    {
     "name": "stdout",
     "output_type": "stream",
     "text": [
      "['srcip', 'dstip', 'proto', 'state', 'service', 'attack_cat']\n"
     ]
    }
   ],
   "source": [
    "print([col.name for col in df_clean.schema if isinstance(col.dataType, StringType)])"
   ]
  },
  {
   "cell_type": "code",
   "execution_count": 44,
   "metadata": {},
   "outputs": [
    {
     "name": "stderr",
     "output_type": "stream",
     "text": [
      "[Stage 49:>                                                         (0 + 8) / 8]\r"
     ]
    },
    {
     "name": "stdout",
     "output_type": "stream",
     "text": [
      "+--------------+\n",
      "|         srcip|\n",
      "+--------------+\n",
      "|149.171.126.16|\n",
      "|    59.166.0.5|\n",
      "|   10.40.170.2|\n",
      "|    59.166.0.8|\n",
      "|    10.40.85.1|\n",
      "|149.171.126.18|\n",
      "|    59.166.0.3|\n",
      "| 149.171.126.7|\n",
      "|  175.45.176.1|\n",
      "|149.171.126.15|\n",
      "|   10.40.85.10|\n",
      "| 149.171.126.4|\n",
      "|    59.166.0.6|\n",
      "|    59.166.0.4|\n",
      "|149.171.126.17|\n",
      "| 149.171.126.2|\n",
      "|149.171.126.13|\n",
      "|149.171.126.10|\n",
      "|    59.166.0.1|\n",
      "| 149.171.126.3|\n",
      "+--------------+\n",
      "only showing top 20 rows\n",
      "\n"
     ]
    },
    {
     "name": "stderr",
     "output_type": "stream",
     "text": [
      "                                                                                \r"
     ]
    }
   ],
   "source": [
    "df_clean.select(\"srcip\").distinct().show()"
   ]
  },
  {
   "cell_type": "code",
   "execution_count": 45,
   "metadata": {},
   "outputs": [
    {
     "name": "stderr",
     "output_type": "stream",
     "text": [
      "[Stage 52:>                                                         (0 + 8) / 8]\r"
     ]
    },
    {
     "name": "stdout",
     "output_type": "stream",
     "text": [
      "+--------------+\n",
      "|         dstip|\n",
      "+--------------+\n",
      "|149.171.126.16|\n",
      "|    59.166.0.5|\n",
      "|   10.40.170.2|\n",
      "|    59.166.0.8|\n",
      "|    10.40.85.1|\n",
      "|     224.0.0.5|\n",
      "|149.171.126.18|\n",
      "| 149.171.126.7|\n",
      "|    59.166.0.3|\n",
      "|  175.45.176.1|\n",
      "|149.171.126.15|\n",
      "| 149.171.126.4|\n",
      "|    59.166.0.6|\n",
      "|    59.166.0.4|\n",
      "|149.171.126.17|\n",
      "| 149.171.126.2|\n",
      "|  10.40.198.10|\n",
      "|149.171.126.13|\n",
      "|149.171.126.10|\n",
      "|    59.166.0.1|\n",
      "+--------------+\n",
      "only showing top 20 rows\n",
      "\n"
     ]
    },
    {
     "name": "stderr",
     "output_type": "stream",
     "text": [
      "                                                                                \r"
     ]
    }
   ],
   "source": [
    "df_clean.select(\"dstip\").distinct().show()"
   ]
  },
  {
   "cell_type": "code",
   "execution_count": 46,
   "metadata": {},
   "outputs": [
    {
     "name": "stderr",
     "output_type": "stream",
     "text": [
      "[Stage 55:>                                                         (0 + 8) / 8]\r"
     ]
    },
    {
     "name": "stdout",
     "output_type": "stream",
     "text": [
      "+----------+\n",
      "|     proto|\n",
      "+----------+\n",
      "|      cphb|\n",
      "|      larp|\n",
      "|nsfnet-igp|\n",
      "|       dgp|\n",
      "|       tcf|\n",
      "|     crudp|\n",
      "|      vrrp|\n",
      "|       igp|\n",
      "|       nvp|\n",
      "|   mfe-nsp|\n",
      "|        il|\n",
      "|       prm|\n",
      "|      micp|\n",
      "|  wb-expak|\n",
      "|      ospf|\n",
      "|br-sat-mon|\n",
      "|      idrp|\n",
      "|        ib|\n",
      "| kryptolan|\n",
      "|sprite-rpc|\n",
      "+----------+\n",
      "only showing top 20 rows\n",
      "\n"
     ]
    },
    {
     "name": "stderr",
     "output_type": "stream",
     "text": [
      "                                                                                \r"
     ]
    }
   ],
   "source": [
    "df_clean.select(\"proto\").distinct().show()"
   ]
  },
  {
   "cell_type": "code",
   "execution_count": 47,
   "metadata": {},
   "outputs": [
    {
     "name": "stderr",
     "output_type": "stream",
     "text": [
      "[Stage 58:>                                                         (0 + 8) / 8]\r"
     ]
    },
    {
     "name": "stdout",
     "output_type": "stream",
     "text": [
      "+-----+\n",
      "|state|\n",
      "+-----+\n",
      "|  URN|\n",
      "|  ACC|\n",
      "|  ECO|\n",
      "|  ECR|\n",
      "|  PAR|\n",
      "|  RST|\n",
      "|  REQ|\n",
      "|  FIN|\n",
      "|  INT|\n",
      "|  MAS|\n",
      "|   no|\n",
      "|  CON|\n",
      "|  TST|\n",
      "|  TXD|\n",
      "|  URH|\n",
      "|  CLO|\n",
      "+-----+\n",
      "\n"
     ]
    },
    {
     "name": "stderr",
     "output_type": "stream",
     "text": [
      "                                                                                \r"
     ]
    }
   ],
   "source": [
    "df_clean.select(\"state\").distinct().show()"
   ]
  },
  {
   "cell_type": "code",
   "execution_count": 48,
   "metadata": {},
   "outputs": [
    {
     "name": "stderr",
     "output_type": "stream",
     "text": [
      "[Stage 61:>                                                         (0 + 8) / 8]\r"
     ]
    },
    {
     "name": "stdout",
     "output_type": "stream",
     "text": [
      "+--------+\n",
      "| service|\n",
      "+--------+\n",
      "|     ftp|\n",
      "|ftp-data|\n",
      "|     dns|\n",
      "|    smtp|\n",
      "|    http|\n",
      "|  radius|\n",
      "|     ssl|\n",
      "|       -|\n",
      "|     irc|\n",
      "|    dhcp|\n",
      "|    snmp|\n",
      "|    pop3|\n",
      "|     ssh|\n",
      "+--------+\n",
      "\n"
     ]
    },
    {
     "name": "stderr",
     "output_type": "stream",
     "text": [
      "                                                                                \r"
     ]
    }
   ],
   "source": [
    "df_clean.select(\"service\").distinct().show()"
   ]
  },
  {
   "cell_type": "markdown",
   "metadata": {},
   "source": [
    "We will replace the “-“ with “Others”"
   ]
  },
  {
   "cell_type": "code",
   "execution_count": 49,
   "metadata": {},
   "outputs": [],
   "source": [
    "df_clean = df_clean.withColumn(\"service\", when(df_clean[\"service\"] == \"-\", \"Others\").otherwise(df_clean[\"service\"]))"
   ]
  },
  {
   "cell_type": "code",
   "execution_count": 50,
   "metadata": {},
   "outputs": [
    {
     "name": "stderr",
     "output_type": "stream",
     "text": [
      "[Stage 64:>                                                         (0 + 8) / 8]\r"
     ]
    },
    {
     "name": "stdout",
     "output_type": "stream",
     "text": [
      "+--------+\n",
      "| service|\n",
      "+--------+\n",
      "|     ftp|\n",
      "|ftp-data|\n",
      "|     dns|\n",
      "|    smtp|\n",
      "|    http|\n",
      "|  radius|\n",
      "|     ssl|\n",
      "|  Others|\n",
      "|     irc|\n",
      "|    dhcp|\n",
      "|    snmp|\n",
      "|    pop3|\n",
      "|     ssh|\n",
      "+--------+\n",
      "\n"
     ]
    },
    {
     "name": "stderr",
     "output_type": "stream",
     "text": [
      "                                                                                \r"
     ]
    }
   ],
   "source": [
    "df_clean.select(\"service\").distinct().show()"
   ]
  },
  {
   "cell_type": "code",
   "execution_count": 51,
   "metadata": {},
   "outputs": [
    {
     "name": "stderr",
     "output_type": "stream",
     "text": [
      "[Stage 67:>                                                         (0 + 8) / 8]\r"
     ]
    },
    {
     "name": "stdout",
     "output_type": "stream",
     "text": [
      "+---------------+\n",
      "|is_sm_ips_ports|\n",
      "+---------------+\n",
      "|              1|\n",
      "|              0|\n",
      "+---------------+\n",
      "\n"
     ]
    },
    {
     "name": "stderr",
     "output_type": "stream",
     "text": [
      "                                                                                \r"
     ]
    }
   ],
   "source": [
    "df_clean.select(\"is_sm_ips_ports\").distinct().show()"
   ]
  },
  {
   "cell_type": "code",
   "execution_count": 52,
   "metadata": {},
   "outputs": [
    {
     "name": "stderr",
     "output_type": "stream",
     "text": [
      "[Stage 70:>                                                         (0 + 8) / 8]\r"
     ]
    },
    {
     "name": "stdout",
     "output_type": "stream",
     "text": [
      "+------------+\n",
      "|is_ftp_login|\n",
      "+------------+\n",
      "|           1|\n",
      "|           4|\n",
      "|           2|\n",
      "|           0|\n",
      "+------------+\n",
      "\n"
     ]
    },
    {
     "name": "stderr",
     "output_type": "stream",
     "text": [
      "                                                                                \r"
     ]
    }
   ],
   "source": [
    "df_clean.select(\"is_ftp_login\").distinct().show()"
   ]
  },
  {
   "cell_type": "markdown",
   "metadata": {},
   "source": [
    "In this dataset I found that even though `is_ftp_login` is a binary column it has values other than 0 and 1. Let’s remove all except 0 and 1."
   ]
  },
  {
   "cell_type": "code",
   "execution_count": 53,
   "metadata": {},
   "outputs": [
    {
     "name": "stderr",
     "output_type": "stream",
     "text": [
      "[Stage 73:>                                                         (0 + 8) / 8]\r"
     ]
    },
    {
     "name": "stdout",
     "output_type": "stream",
     "text": [
      "+------------+\n",
      "|is_ftp_login|\n",
      "+------------+\n",
      "|           1|\n",
      "|           0|\n",
      "+------------+\n",
      "\n"
     ]
    },
    {
     "name": "stderr",
     "output_type": "stream",
     "text": [
      "                                                                                \r"
     ]
    }
   ],
   "source": [
    "df_clean = df_clean.filter(col(\"is_ftp_login\").isin([0, 1]))\n",
    "df_clean.select(\"is_ftp_login\").distinct().show()"
   ]
  },
  {
   "cell_type": "code",
   "execution_count": 54,
   "metadata": {},
   "outputs": [
    {
     "name": "stderr",
     "output_type": "stream",
     "text": [
      "[Stage 76:>                                                         (0 + 8) / 8]\r"
     ]
    },
    {
     "name": "stdout",
     "output_type": "stream",
     "text": [
      "+--------------+\n",
      "|    attack_cat|\n",
      "+--------------+\n",
      "|       generic|\n",
      "|     shellcode|\n",
      "|        normal|\n",
      "|         worms|\n",
      "|reconnaissance|\n",
      "|      analysis|\n",
      "|       fuzzers|\n",
      "|           dos|\n",
      "|      backdoor|\n",
      "|      exploits|\n",
      "|     backdoors|\n",
      "+--------------+\n",
      "\n"
     ]
    },
    {
     "name": "stderr",
     "output_type": "stream",
     "text": [
      "                                                                                \r"
     ]
    }
   ],
   "source": [
    "df_clean.select(\"attack_cat\").distinct().show()"
   ]
  },
  {
   "cell_type": "markdown",
   "metadata": {},
   "source": [
    "And in attack category we have same category twice the difference is singular and plural."
   ]
  },
  {
   "cell_type": "code",
   "execution_count": 55,
   "metadata": {},
   "outputs": [
    {
     "name": "stderr",
     "output_type": "stream",
     "text": [
      "                                                                                \r"
     ]
    },
    {
     "name": "stdout",
     "output_type": "stream",
     "text": [
      "Number of data for 'backdoor': 1795\n"
     ]
    },
    {
     "name": "stderr",
     "output_type": "stream",
     "text": [
      "[Stage 82:>                                                         (0 + 8) / 8]\r"
     ]
    },
    {
     "name": "stdout",
     "output_type": "stream",
     "text": [
      "Number of data for 'backdoors': 534\n"
     ]
    },
    {
     "name": "stderr",
     "output_type": "stream",
     "text": [
      "                                                                                \r"
     ]
    }
   ],
   "source": [
    "print(\"Number of data for 'backdoor':\", df_clean.filter(lower(trim(col(\"attack_cat\"))) == \"backdoor\").count())\n",
    "print(\"Number of data for 'backdoors':\", df_clean.filter(lower(trim(col(\"attack_cat\"))) == \"backdoors\").count())"
   ]
  },
  {
   "cell_type": "code",
   "execution_count": 56,
   "metadata": {},
   "outputs": [],
   "source": [
    "# Replace \"backdoors\" with \"backdoor\"\n",
    "df_clean = df_clean.withColumn(\"attack_cat\", \n",
    "                        when(df_clean[\"attack_cat\"] == \"backdoors\", \"backdoor\")\n",
    "                        .otherwise(df_clean[\"attack_cat\"]))"
   ]
  },
  {
   "cell_type": "code",
   "execution_count": 57,
   "metadata": {},
   "outputs": [
    {
     "name": "stderr",
     "output_type": "stream",
     "text": [
      "[Stage 85:>                                                         (0 + 8) / 8]\r"
     ]
    },
    {
     "name": "stdout",
     "output_type": "stream",
     "text": [
      "+--------------+\n",
      "|    attack_cat|\n",
      "+--------------+\n",
      "|       generic|\n",
      "|     shellcode|\n",
      "|        normal|\n",
      "|         worms|\n",
      "|reconnaissance|\n",
      "|      analysis|\n",
      "|       fuzzers|\n",
      "|           dos|\n",
      "|      backdoor|\n",
      "|      exploits|\n",
      "+--------------+\n",
      "\n"
     ]
    },
    {
     "name": "stderr",
     "output_type": "stream",
     "text": [
      "                                                                                \r"
     ]
    }
   ],
   "source": [
    "df_clean.select(\"attack_cat\").distinct().show()"
   ]
  },
  {
   "cell_type": "markdown",
   "metadata": {},
   "source": [
    "# Target Columns\n",
    "We are performing two different classifications as this is a Supervised Machine Learning Task, Binary and Multi-class classification.\n",
    "* Binary Classification we will make use of the Label as the target for development,\n",
    "* Multi-class Classification we will use the attack_cat as the target for development."
   ]
  },
  {
   "cell_type": "code",
   "execution_count": 58,
   "metadata": {},
   "outputs": [],
   "source": [
    "import numpy as np\n",
    "\n",
    "def display_target_distribution(dataframe, column_name: str):\n",
    "    # Filter out null values\n",
    "    dataframe = dataframe.filter(dataframe[column_name].isNotNull())\n",
    "\n",
    "    cats_and_counts = dataframe.groupBy(column_name).count().orderBy('count', ascending=False).collect()\n",
    "    cats = [row[column_name] for row in cats_and_counts]\n",
    "    counts = [row['count'] for row in cats_and_counts]\n",
    "    \n",
    "    # Generate evenly spaced x positions for the bars\n",
    "    x_pos = np.arange(len(cats))\n",
    "\n",
    "    plt.bar(x_pos, counts)\n",
    "    plt.xlabel(f'{column_name.split(\"_\")[0].capitalize()} Category')\n",
    "    plt.ylabel('Count')\n",
    "    plt.title(f'Distribution of {column_name.split(\"_\")[0].capitalize()} Categories')\n",
    "\n",
    "    plt.xticks(x_pos, cats, rotation=45, ha='right')\n",
    "    plt.tight_layout()\n",
    "    plt.figure(figsize=(22, 20))\n",
    "\n",
    "    plt.show()\n"
   ]
  },
  {
   "cell_type": "code",
   "execution_count": 59,
   "metadata": {},
   "outputs": [
    {
     "name": "stderr",
     "output_type": "stream",
     "text": [
      "[Stage 88:>                                                         (0 + 8) / 8]\r"
     ]
    },
    {
     "name": "stdout",
     "output_type": "stream",
     "text": [
      "+--------------+\n",
      "|    attack_cat|\n",
      "+--------------+\n",
      "|       generic|\n",
      "|     shellcode|\n",
      "|        normal|\n",
      "|         worms|\n",
      "|reconnaissance|\n",
      "|      analysis|\n",
      "|       fuzzers|\n",
      "|           dos|\n",
      "|      backdoor|\n",
      "|      exploits|\n",
      "+--------------+\n",
      "\n"
     ]
    },
    {
     "name": "stderr",
     "output_type": "stream",
     "text": [
      "                                                                                \r"
     ]
    }
   ],
   "source": [
    "df_clean.select('attack_cat').distinct().show()"
   ]
  },
  {
   "cell_type": "code",
   "execution_count": 60,
   "metadata": {},
   "outputs": [
    {
     "name": "stderr",
     "output_type": "stream",
     "text": [
      "                                                                                \r"
     ]
    },
    {
     "data": {
      "image/png": "[encoded data removed]",
      "text/plain": [
       "<Figure size 640x480 with 1 Axes>"
      ]
     },
     "metadata": {},
     "output_type": "display_data"
    },
    {
     "data": {
      "text/plain": [
       "<Figure size 2200x2000 with 0 Axes>"
      ]
     },
     "metadata": {},
     "output_type": "display_data"
    }
   ],
   "source": [
    "display_target_distribution(df_clean, 'attack_cat')"
   ]
  },
  {
   "cell_type": "markdown",
   "metadata": {},
   "source": [
    "The attack_cat column is heavily imbalanced, this categories will introduce bias during model prediction."
   ]
  },
  {
   "cell_type": "markdown",
   "metadata": {},
   "source": [
    "The data is highly imbalanced and have lots of non-attack than attacks.\n",
    "In train data most occurred attack data categories are “Generic”, “Exploits”, Fuzzers”, “DoS” and “Reconnaissance”, \"analysis\", \"backdoor\", \"shellcode\", \"worms\""
   ]
  },
  {
   "cell_type": "code",
   "execution_count": 61,
   "metadata": {},
   "outputs": [
    {
     "name": "stderr",
     "output_type": "stream",
     "text": [
      "[Stage 99:>                                                         (0 + 8) / 8]\r"
     ]
    },
    {
     "name": "stdout",
     "output_type": "stream",
     "text": [
      "+-----+\n",
      "|Label|\n",
      "+-----+\n",
      "|    1|\n",
      "|    0|\n",
      "+-----+\n",
      "\n"
     ]
    },
    {
     "name": "stderr",
     "output_type": "stream",
     "text": [
      "                                                                                \r"
     ]
    }
   ],
   "source": [
    "df_clean.select('Label').distinct().show()"
   ]
  },
  {
   "cell_type": "code",
   "execution_count": 62,
   "metadata": {},
   "outputs": [
    {
     "name": "stderr",
     "output_type": "stream",
     "text": [
      "                                                                                \r"
     ]
    },
    {
     "data": {
      "image/png": "[encoded data removed]",
      "text/plain": [
       "<Figure size 640x480 with 1 Axes>"
      ]
     },
     "metadata": {},
     "output_type": "display_data"
    },
    {
     "data": {
      "text/plain": [
       "<Figure size 2200x2000 with 0 Axes>"
      ]
     },
     "metadata": {},
     "output_type": "display_data"
    }
   ],
   "source": [
    "display_target_distribution(df_clean, 'Label')"
   ]
  },
  {
   "cell_type": "markdown",
   "metadata": {},
   "source": [
    "The Label is imbalanced, this categories will also introduce bias during model prediction."
   ]
  },
  {
   "cell_type": "code",
   "execution_count": 63,
   "metadata": {},
   "outputs": [],
   "source": [
    "from typing import List\n",
    "\n",
    "def col_countplot(column, data, occurences_of_interest: List[str]):\n",
    "    \"\"\"\n",
    "    This function plots countplot of a given feature for dataset\n",
    "    \"\"\"\n",
    "    \n",
    "    # Filter the DataFrame based on the occurrences of interest\n",
    "    filtered_df = df_clean.filter(col(column).isin(occurences_of_interest))\n",
    "\n",
    "    # Convert PySpark DataFrame to Pandas DataFrame\n",
    "    pandas_df = filtered_df.select(column, 'Label').toPandas()\n",
    "    \n",
    "    fig, ax = plt.subplots(figsize=(12, 6))  # Increase the size of the plot\n",
    "    sns.set_style('whitegrid')\n",
    "    # countplot of the given column\n",
    "    ax = sns.countplot(x=column, hue='Label', data=pandas_df)\n",
    "    ax.legend(loc=\"upper right\", labels=('normal', 'attack'))\n",
    "    ax.set_title(\"Data\")\n",
    "    plt.xticks(rotation=45, ha='right')  # Rotate x-axis labels further\n",
    "    plt.tight_layout()  # Adjust layout for better readability\n",
    "    plt.show()"
   ]
  },
  {
   "cell_type": "code",
   "execution_count": 64,
   "metadata": {},
   "outputs": [],
   "source": [
    "def check_cat_occurence(col_name):\n",
    "    # Count occurrences of each category in a categorical column\n",
    "    df_clean.groupBy(col_name).count().orderBy('count', ascending=False).show()"
   ]
  },
  {
   "cell_type": "markdown",
   "metadata": {},
   "source": [
    "# Proto"
   ]
  },
  {
   "cell_type": "code",
   "execution_count": 65,
   "metadata": {},
   "outputs": [
    {
     "name": "stderr",
     "output_type": "stream",
     "text": [
      "[Stage 110:>                                                        (0 + 8) / 8]\r"
     ]
    },
    {
     "name": "stdout",
     "output_type": "stream",
     "text": [
      "+----------+-------+\n",
      "|     proto|  count|\n",
      "+----------+-------+\n",
      "|       tcp|1494888|\n",
      "|       udp| 990435|\n",
      "|      unas|  16202|\n",
      "|       arp|  10064|\n",
      "|      ospf|   7798|\n",
      "|      sctp|   1525|\n",
      "|       any|    411|\n",
      "|       gre|    324|\n",
      "|      rsvp|    274|\n",
      "|      ipv6|    272|\n",
      "|    sun-nd|    262|\n",
      "|    mobile|    262|\n",
      "|     swipe|    262|\n",
      "|       pim|    262|\n",
      "|       sep|    260|\n",
      "|      icmp|    218|\n",
      "|      cphb|    137|\n",
      "|      larp|    137|\n",
      "|nsfnet-igp|    137|\n",
      "|       dgp|    137|\n",
      "+----------+-------+\n",
      "only showing top 20 rows\n",
      "\n"
     ]
    },
    {
     "name": "stderr",
     "output_type": "stream",
     "text": [
      "                                                                                \r"
     ]
    }
   ],
   "source": [
    "check_cat_occurence('proto')"
   ]
  },
  {
   "cell_type": "markdown",
   "metadata": {},
   "source": [
    "They are alot of occurence of those categories we will focus on the most occurences for analysis, we will focus on the 'tcp', 'udp', 'unas', 'arp', 'ospf'"
   ]
  },
  {
   "cell_type": "code",
   "execution_count": 66,
   "metadata": {},
   "outputs": [
    {
     "name": "stderr",
     "output_type": "stream",
     "text": [
      "                                                                                \r"
     ]
    },
    {
     "data": {
      "image/png": "[encoded data removed]",
      "text/plain": [
       "<Figure size 1200x600 with 1 Axes>"
      ]
     },
     "metadata": {},
     "output_type": "display_data"
    }
   ],
   "source": [
    "col_countplot('proto', df_clean, ['tcp', 'udp', 'unas', 'arp', 'ospf'])"
   ]
  },
  {
   "cell_type": "markdown",
   "metadata": {},
   "source": [
    "Most of the values are consists of udp and tcp.\n",
    "For normal data, count of tcp is lot higher.\n",
    "Considering the imbalance there are lots of udp category for attacks."
   ]
  },
  {
   "cell_type": "markdown",
   "metadata": {},
   "source": [
    "# Service"
   ]
  },
  {
   "cell_type": "code",
   "execution_count": 67,
   "metadata": {},
   "outputs": [
    {
     "name": "stderr",
     "output_type": "stream",
     "text": [
      "[Stage 114:>                                                        (0 + 8) / 8]\r"
     ]
    },
    {
     "name": "stdout",
     "output_type": "stream",
     "text": [
      "+--------+-------+\n",
      "| service|  count|\n",
      "+--------+-------+\n",
      "|  Others|1246086|\n",
      "|     dns| 781668|\n",
      "|    http| 206273|\n",
      "|ftp-data| 125783|\n",
      "|    smtp|  81645|\n",
      "|     ftp|  48907|\n",
      "|     ssh|  47160|\n",
      "|    pop3|   1533|\n",
      "|    dhcp|    172|\n",
      "|     ssl|    142|\n",
      "|    snmp|    113|\n",
      "|  radius|     40|\n",
      "|     irc|     31|\n",
      "+--------+-------+\n",
      "\n"
     ]
    },
    {
     "name": "stderr",
     "output_type": "stream",
     "text": [
      "                                                                                \r"
     ]
    }
   ],
   "source": [
    "check_cat_occurence('service')"
   ]
  },
  {
   "cell_type": "markdown",
   "metadata": {},
   "source": [
    "They are alot of occurence of those categories we will focus on the most occurences for analysis, we will focus on the 'Others', 'dns', 'http', 'ftp-data', 'smtp', 'ftp', 'ssh', 'pop3'."
   ]
  },
  {
   "cell_type": "code",
   "execution_count": 68,
   "metadata": {},
   "outputs": [
    {
     "name": "stderr",
     "output_type": "stream",
     "text": [
      "                                                                                \r"
     ]
    },
    {
     "data": {
      "image/png": "[encoded data removed]",
      "text/plain": [
       "<Figure size 1200x600 with 1 Axes>"
      ]
     },
     "metadata": {},
     "output_type": "display_data"
    }
   ],
   "source": [
    "col_countplot('service', df_clean, ['Others', 'dns', 'http', 'ftp-data', 'smtp', 'ftp', 'ssh', 'pop3'])"
   ]
  },
  {
   "cell_type": "markdown",
   "metadata": {},
   "source": [
    "As we have already replaced all the “-“ with “Others”, \n",
    "- For normal there are lots of “dns” and others that means most of “-” and few rare values. In attack data “dns” is present higher than any other values. There are few number of others and http also."
   ]
  },
  {
   "cell_type": "markdown",
   "metadata": {},
   "source": [
    "# State\n",
    "The state and its dependent protocol, categorical feature."
   ]
  },
  {
   "cell_type": "code",
   "execution_count": 69,
   "metadata": {},
   "outputs": [
    {
     "name": "stderr",
     "output_type": "stream",
     "text": [
      "[Stage 118:>                                                        (0 + 8) / 8]\r"
     ]
    },
    {
     "name": "stdout",
     "output_type": "stream",
     "text": [
      "+-----+-------+\n",
      "|state|  count|\n",
      "+-----+-------+\n",
      "|  FIN|1478537|\n",
      "|  CON| 560554|\n",
      "|  INT| 490469|\n",
      "|  REQ|   9043|\n",
      "|  RST|    528|\n",
      "|  CLO|    161|\n",
      "|  ECO|     96|\n",
      "|  URH|     54|\n",
      "|  ACC|     43|\n",
      "|  PAR|     26|\n",
      "|  ECR|      8|\n",
      "|  TST|      8|\n",
      "|  URN|      7|\n",
      "|  MAS|      7|\n",
      "|   no|      7|\n",
      "|  TXD|      5|\n",
      "+-----+-------+\n",
      "\n"
     ]
    },
    {
     "name": "stderr",
     "output_type": "stream",
     "text": [
      "                                                                                \r"
     ]
    }
   ],
   "source": [
    "check_cat_occurence('state')"
   ]
  },
  {
   "cell_type": "markdown",
   "metadata": {},
   "source": [
    "They are alot of occurence of those categories we will focus on the most occurences for analysis, we will focus on the 'FIN', 'CON', 'INT', 'REQ', 'RST', 'CLO'."
   ]
  },
  {
   "cell_type": "code",
   "execution_count": 70,
   "metadata": {},
   "outputs": [
    {
     "name": "stderr",
     "output_type": "stream",
     "text": [
      "                                                                                \r"
     ]
    },
    {
     "data": {
      "image/png": "[encoded data removed]",
      "text/plain": [
       "<Figure size 1200x600 with 1 Axes>"
      ]
     },
     "metadata": {},
     "output_type": "display_data"
    }
   ],
   "source": [
    "col_countplot('state', df_clean, ['FIN', 'CON', 'INT', 'REQ', 'RST', 'CLO'])"
   ]
  },
  {
   "cell_type": "markdown",
   "metadata": {},
   "source": [
    "- For normal data \"FIN\" is very frequent then “cons” almost half of \"FIN\" and few \"INT\" also. In attack \"INT\" is higher than normal cat values. That could be really important feature to detect. There are very few \"FIN\"."
   ]
  },
  {
   "cell_type": "markdown",
   "metadata": {},
   "source": [
    "# ct_flw_http_mthd"
   ]
  },
  {
   "cell_type": "code",
   "execution_count": 71,
   "metadata": {},
   "outputs": [
    {
     "name": "stderr",
     "output_type": "stream",
     "text": [
      "[Stage 122:>                                                        (0 + 8) / 8]\r"
     ]
    },
    {
     "name": "stdout",
     "output_type": "stream",
     "text": [
      "+----------------+-------+\n",
      "|ct_flw_http_mthd|  count|\n",
      "+----------------+-------+\n",
      "|               0|2334442|\n",
      "|               1| 188008|\n",
      "|               6|   7902|\n",
      "|               4|   6564|\n",
      "|               3|    738|\n",
      "|               2|    588|\n",
      "|               5|    430|\n",
      "|               9|    270|\n",
      "|              14|    224|\n",
      "|              12|    132|\n",
      "|              30|     60|\n",
      "|               8|     56|\n",
      "|              16|     48|\n",
      "|              36|     36|\n",
      "|              10|     30|\n",
      "|              25|     25|\n",
      "+----------------+-------+\n",
      "\n"
     ]
    },
    {
     "name": "stderr",
     "output_type": "stream",
     "text": [
      "                                                                                \r"
     ]
    }
   ],
   "source": [
    "check_cat_occurence('ct_flw_http_mthd')"
   ]
  },
  {
   "cell_type": "markdown",
   "metadata": {},
   "source": [
    "No. of flows that has methods such as Get and Post in http service"
   ]
  },
  {
   "cell_type": "code",
   "execution_count": 72,
   "metadata": {},
   "outputs": [
    {
     "name": "stderr",
     "output_type": "stream",
     "text": [
      "                                                                                \r"
     ]
    },
    {
     "data": {
      "image/png": "[encoded data removed]",
      "text/plain": [
       "<Figure size 1200x600 with 1 Axes>"
      ]
     },
     "metadata": {},
     "output_type": "display_data"
    }
   ],
   "source": [
    "col_countplot('ct_flw_http_mthd', df_clean, ['0', '1', '6', '4', '3', '2'])"
   ]
  },
  {
   "cell_type": "markdown",
   "metadata": {},
   "source": [
    "This is actually a numerical feature, but it has only 16 unique values.\n",
    "- For normal category almost all the values are 0 and few 1.\n",
    "- In attack data everything is 0 and there is very few value of 1."
   ]
  },
  {
   "cell_type": "markdown",
   "metadata": {},
   "source": [
    "# ct_state_ttl"
   ]
  },
  {
   "cell_type": "code",
   "execution_count": 73,
   "metadata": {},
   "outputs": [
    {
     "name": "stderr",
     "output_type": "stream",
     "text": [
      "[Stage 126:>                                                        (0 + 8) / 8]\r"
     ]
    },
    {
     "name": "stdout",
     "output_type": "stream",
     "text": [
      "+------------+-------+\n",
      "|ct_state_ttl|  count|\n",
      "+------------+-------+\n",
      "|           0|2177717|\n",
      "|           2| 272001|\n",
      "|           1|  81380|\n",
      "|           3|   4243|\n",
      "|           6|   4170|\n",
      "|           4|     40|\n",
      "|           5|      2|\n",
      "+------------+-------+\n",
      "\n"
     ]
    },
    {
     "name": "stderr",
     "output_type": "stream",
     "text": [
      "                                                                                \r"
     ]
    }
   ],
   "source": [
    "check_cat_occurence('ct_state_ttl')"
   ]
  },
  {
   "cell_type": "markdown",
   "metadata": {},
   "source": [
    "### Use all the occurences in the ct_state_ttl column"
   ]
  },
  {
   "cell_type": "code",
   "execution_count": 74,
   "metadata": {},
   "outputs": [
    {
     "name": "stderr",
     "output_type": "stream",
     "text": [
      "[Stage 129:>                                                        (0 + 8) / 8]\r"
     ]
    },
    {
     "name": "stdout",
     "output_type": "stream",
     "text": [
      "[1, 6, 3, 4, 2, 0, 5]\n"
     ]
    },
    {
     "name": "stderr",
     "output_type": "stream",
     "text": [
      "                                                                                \r"
     ]
    }
   ],
   "source": [
    "# Assuming your DataFrame is named df_clean\n",
    "unique_with_frequency = df_clean.groupBy('ct_state_ttl').count().collect()\n",
    "\n",
    "# Convert the result to a list\n",
    "result_list = [row['ct_state_ttl'] for row in unique_with_frequency]\n",
    "\n",
    "print(result_list)"
   ]
  },
  {
   "cell_type": "code",
   "execution_count": 75,
   "metadata": {},
   "outputs": [
    {
     "name": "stderr",
     "output_type": "stream",
     "text": [
      "                                                                                \r"
     ]
    },
    {
     "data": {
      "image/png": "[encoded data removed]",
      "text/plain": [
       "<Figure size 1200x600 with 1 Axes>"
      ]
     },
     "metadata": {},
     "output_type": "display_data"
    }
   ],
   "source": [
    "col_countplot('ct_state_ttl', df_clean, result_list)"
   ]
  },
  {
   "cell_type": "markdown",
   "metadata": {},
   "source": [
    "Normal data has 0 as most of its values. Anomaly has most of its value 2. There are few attack with value 1 and also very little non-attack with value 1."
   ]
  },
  {
   "cell_type": "markdown",
   "metadata": {},
   "source": [
    "# Dttl and Sttl\n",
    "“sttl”: Source to destination time to live, Numerical with 13 distinct values."
   ]
  },
  {
   "cell_type": "code",
   "execution_count": 76,
   "metadata": {},
   "outputs": [
    {
     "name": "stderr",
     "output_type": "stream",
     "text": [
      "[Stage 133:>                                                        (0 + 8) / 8]\r"
     ]
    },
    {
     "name": "stdout",
     "output_type": "stream",
     "text": [
      "+----+-------+\n",
      "|sttl|  count|\n",
      "+----+-------+\n",
      "|  31|1940538|\n",
      "| 254| 331279|\n",
      "|  60| 214255|\n",
      "|  62|  29943|\n",
      "|   0|  10447|\n",
      "|   1|   4520|\n",
      "|  64|   3565|\n",
      "|  29|   2736|\n",
      "|  32|   1602|\n",
      "|  63|    285|\n",
      "|  30|    225|\n",
      "| 252|     84|\n",
      "| 255|     74|\n",
      "+----+-------+\n",
      "\n"
     ]
    },
    {
     "name": "stderr",
     "output_type": "stream",
     "text": [
      "                                                                                \r"
     ]
    }
   ],
   "source": [
    "check_cat_occurence('sttl')"
   ]
  },
  {
   "cell_type": "code",
   "execution_count": 77,
   "metadata": {},
   "outputs": [
    {
     "name": "stderr",
     "output_type": "stream",
     "text": [
      "[Stage 136:>                                                        (0 + 8) / 8]\r"
     ]
    },
    {
     "name": "stdout",
     "output_type": "stream",
     "text": [
      "[31, 255, 1, 64, 63, 62, 29, 32, 60, 254, 30, 252, 0]\n"
     ]
    },
    {
     "name": "stderr",
     "output_type": "stream",
     "text": [
      "                                                                                \r"
     ]
    }
   ],
   "source": [
    "unique_with_frequency = df_clean.groupBy('sttl').count().collect()\n",
    "result_list = [row['sttl'] for row in unique_with_frequency]\n",
    "\n",
    "print(result_list)"
   ]
  },
  {
   "cell_type": "code",
   "execution_count": 78,
   "metadata": {},
   "outputs": [
    {
     "name": "stderr",
     "output_type": "stream",
     "text": [
      "                                                                                \r"
     ]
    },
    {
     "data": {
      "image/png": "[encoded data removed]",
      "text/plain": [
       "<Figure size 1200x600 with 1 Axes>"
      ]
     },
     "metadata": {},
     "output_type": "display_data"
    }
   ],
   "source": [
    "col_countplot('sttl', df_clean, result_list)"
   ]
  },
  {
   "cell_type": "markdown",
   "metadata": {},
   "source": [
    "- Most of the values for non-attack data is 31. There are some 60 and very few 254. There lots of 254in attack data way more than non-attack data points. There are few 62 also and that is also higher than non-attack."
   ]
  },
  {
   "cell_type": "markdown",
   "metadata": {},
   "source": [
    "“dttl”: Destination to source time to live, Numerical feature with 11 unique values."
   ]
  },
  {
   "cell_type": "code",
   "execution_count": 79,
   "metadata": {},
   "outputs": [
    {
     "name": "stderr",
     "output_type": "stream",
     "text": [
      "[Stage 140:>                                                        (0 + 8) / 8]\r"
     ]
    },
    {
     "name": "stdout",
     "output_type": "stream",
     "text": [
      "+----+-------+\n",
      "|dttl|  count|\n",
      "+----+-------+\n",
      "|  29|1939805|\n",
      "|   0| 505769|\n",
      "| 252|  85210|\n",
      "|  60|   4304|\n",
      "|  31|   2405|\n",
      "|  30|   1789|\n",
      "|  32|    194|\n",
      "| 254|     59|\n",
      "| 253|     11|\n",
      "|  62|      6|\n",
      "|  64|      1|\n",
      "+----+-------+\n",
      "\n"
     ]
    },
    {
     "name": "stderr",
     "output_type": "stream",
     "text": [
      "                                                                                \r"
     ]
    }
   ],
   "source": [
    "check_cat_occurence('dttl')"
   ]
  },
  {
   "cell_type": "code",
   "execution_count": 80,
   "metadata": {},
   "outputs": [
    {
     "name": "stderr",
     "output_type": "stream",
     "text": [
      "[Stage 143:>                                                        (0 + 8) / 8]\r"
     ]
    },
    {
     "name": "stdout",
     "output_type": "stream",
     "text": [
      "[31, 29, 60, 32, 254, 30, 252, 0, 62, 253, 64]\n"
     ]
    },
    {
     "name": "stderr",
     "output_type": "stream",
     "text": [
      "                                                                                \r"
     ]
    }
   ],
   "source": [
    "unique_with_frequency = df_clean.groupBy('dttl').count().collect()\n",
    "result_list = [row['dttl'] for row in unique_with_frequency]\n",
    "\n",
    "print(result_list)"
   ]
  },
  {
   "cell_type": "code",
   "execution_count": 81,
   "metadata": {},
   "outputs": [
    {
     "name": "stderr",
     "output_type": "stream",
     "text": [
      "                                                                                \r"
     ]
    },
    {
     "data": {
      "image/png": "[encoded data removed]",
      "text/plain": [
       "<Figure size 1200x600 with 1 Axes>"
      ]
     },
     "metadata": {},
     "output_type": "display_data"
    }
   ],
   "source": [
    "col_countplot('dttl', df_clean, result_list)"
   ]
  },
  {
   "cell_type": "markdown",
   "metadata": {},
   "source": [
    "- Normal category data has most of its values as 29 and few of them are 0.\n",
    "- Anomaly category has almost all of its value 0 considering the imbalance no of 0 for attack is more than non-attack, and there are very few 252."
   ]
  },
  {
   "cell_type": "code",
   "execution_count": null,
   "metadata": {},
   "outputs": [],
   "source": []
  },
  {
   "cell_type": "markdown",
   "metadata": {},
   "source": [
    "# Descriptive Statistics"
   ]
  },
  {
   "cell_type": "code",
   "execution_count": 82,
   "metadata": {},
   "outputs": [
    {
     "name": "stderr",
     "output_type": "stream",
     "text": [
      "[Stage 147:=================================================>       (7 + 1) / 8]\r"
     ]
    },
    {
     "name": "stdout",
     "output_type": "stream",
     "text": [
      "+-------+-----------+-----------------+-----------+------------------+-------+-------+------------------+-----------------+-----------------+-----------------+------------------+-----------------+------------------+-------+--------------------+------------------+-----------------+------------------+------------------+------------------+-------------------+-------------------+------------------+-----------------+-------------------+------------------+------------------+----------------+-----------------+------------------+--------------------+--------------------+--------------------+--------------------+------------------+-------------------+-------------------+--------------------+------------------+------------------+-----------------+-----------------+-----------------+------------------+------------------+----------+------------------+\n",
      "|summary|      srcip|            sport|      dstip|            dsport|  proto|  state|               dur|           sbytes|           dbytes|             sttl|              dttl|            sloss|             dloss|service|               Sload|             Dload|            Spkts|             Dpkts|              swin|              dwin|              stcpb|              dtcpb|           smeansz|          dmeansz|        trans_depth|       res_bdy_len|              Sjit|            Djit|          Sintpkt|           Dintpkt|              tcprtt|              synack|              ackdat|     is_sm_ips_ports|      ct_state_ttl|   ct_flw_http_mthd|       is_ftp_login|          ct_ftp_cmd|        ct_srv_src|        ct_srv_dst|       ct_dst_ltm|      ct_src_ ltm| ct_src_dport_ltm|  ct_dst_sport_ltm|    ct_dst_src_ltm|attack_cat|             Label|\n",
      "+-------+-----------+-----------------+-----------+------------------+-------+-------+------------------+-----------------+-----------------+-----------------+------------------+-----------------+------------------+-------+--------------------+------------------+-----------------+------------------+------------------+------------------+-------------------+-------------------+------------------+-----------------+-------------------+------------------+------------------+----------------+-----------------+------------------+--------------------+--------------------+--------------------+--------------------+------------------+-------------------+-------------------+--------------------+------------------+------------------+-----------------+-----------------+-----------------+------------------+------------------+----------+------------------+\n",
      "|  count|    2539553|          2539553|    2539553|           2539553|2539553|2539553|           2539553|          2539553|          2539553|          2539553|           2539553|          2539553|           2539553|2539553|             2539553|           2539553|          2539553|           2539553|           2539553|           2539553|            2539553|            2539553|           2539553|          2539553|            2539553|           2539553|           2539553|         2539553|          2539553|           2539553|             2539553|             2539553|             2539553|             2539553|           2539553|            2539553|            2539553|             2539553|           2539553|           2539553|          2539553|          2539553|          2539553|           2539553|           2539553|   2539553|           2539553|\n",
      "|   mean|       NULL|30536.70858572355|       NULL| 11235.91812299251|   NULL|   NULL|0.6587424885998171| 4340.21939057779|36434.46384383393|62.78323035589334|30.768463190175595|5.164273397719993|16.331726882644308|   NULL| 3.695197224156862E7|2451322.6200849423|33.29197579259027| 42.73183272804309|150.09926825705153|149.75633585910592| 3.15467359463291E8|3.149301808269152E8|124.25771031358668|276.7206650146699|0.08326937850873756| 4242.943000205154|1588.4838735469289|729.973856162428|193.0541391642595| 78.83325986848014|0.006180788113725...|0.003287843817191171|0.002892944296964128|0.001651865505464...|0.2611880909750653|0.11009929700226773| 0.0170852902065836|0.020292547546753307| 9.208432743872642| 8.990380196829914|6.439845516120356|6.901753576318352|4.642771385357975|3.5931587173018245| 6.846739564009887|      NULL|0.1265021836520049|\n",
      "| stddev|       NULL|20441.28332448199|       NULL|18438.626263660146|   NULL|   NULL| 13.92615275796969|56411.46066963608|161110.9484655308|74.62861480040804|42.848092056792275|22.51915002634097| 56.59993791349034|   NULL|1.1860806358756316E8|    4225142.507191|76.29039348268566|121.51278047844418|125.48051504933302|125.54198855807738|5.934328777298617E8|5.930085238701035E8| 151.9255248535591|335.6307342905805|0.35003664927843364|47505.108848485135|16907.039270420883|3430.94186225903|2778.683664788307|1433.3281023913348|0.046161420758690536| 0.02593766940717043| 0.02394772069558791| 0.04060957393519161|0.6831330517305715|  0.556471460084841|0.12958931158808942| 0.18159509498941348|10.837305420062195|10.823050732892495|8.162592754982224|8.205590420266669|8.478278443387632| 6.174965043336157|11.259179887494318|      NULL|0.3324145374297687|\n",
      "|    min|10.40.170.2|                0|10.40.170.2|                 0|    3pc|    ACC|               0.0|                0|                0|                0|                 0|                0|                 0| Others|                 0.0|               0.0|                0|                 0|                 0|                 0|                  0|                  0|                 0|                0|                  0|                 0|               0.0|             0.0|              0.0|               0.0|                 0.0|                 0.0|                 0.0|                   0|                 0|                  0|                  0|                   0|                 1|                 1|                1|                1|                1|                 1|                 1|  analysis|                 0|\n",
      "|    max| 59.166.0.9|            65535| 59.166.0.9|             65535|   zero|     no|          8786.638|         14355774|         14657531|              255|               254|             5319|              5507|    ssl|         5.9880003E9|        1.287619E8|            10646|             11018|               255|               255|         2147483118|         2147479768|              1504|             1500|                172|           6558056|         1483830.9|        781221.1|         84371.49|          59485.32|           10.037506|            4.525272|            5.512234|                   1|                 6|                 36|                  1|                   8|                67|                67|               67|               67|               67|                60|                67|     worms|                 1|\n",
      "+-------+-----------+-----------------+-----------+------------------+-------+-------+------------------+-----------------+-----------------+-----------------+------------------+-----------------+------------------+-------+--------------------+------------------+-----------------+------------------+------------------+------------------+-------------------+-------------------+------------------+-----------------+-------------------+------------------+------------------+----------------+-----------------+------------------+--------------------+--------------------+--------------------+--------------------+------------------+-------------------+-------------------+--------------------+------------------+------------------+-----------------+-----------------+-----------------+------------------+------------------+----------+------------------+\n",
      "\n"
     ]
    },
    {
     "name": "stderr",
     "output_type": "stream",
     "text": [
      "                                                                                \r"
     ]
    }
   ],
   "source": [
    "df_clean.describe().show()"
   ]
  },
  {
   "cell_type": "markdown",
   "metadata": {},
   "source": [
    "* `summary`: This row shows the type of summary statistic calculated for each column. The possible values are `count`, `mean`, `stddev`, `min`, and `max`.\n",
    "* `count`: This row shows the number of non-null values in each column.\n",
    "* `mean`: This row shows the average value of each column.\n",
    "* `stddev`: This row shows the standard deviation of each column, which is a measure of the spread of the data.\n",
    "* `min`: This row shows the minimum value of each column.\n",
    "* `max`: This row shows the maximum value of each column."
   ]
  },
  {
   "cell_type": "markdown",
   "metadata": {},
   "source": [
    "# Feature Engineering"
   ]
  },
  {
   "cell_type": "markdown",
   "metadata": {},
   "source": [
    "After looking around for some useful networking feature found that we can add a new feature to our data that is Network Bytes from https://www.elastic.co/guide/en/ecs/master/ecs-network.html"
   ]
  },
  {
   "cell_type": "markdown",
   "metadata": {},
   "source": [
    "Network bytes: Total bytes transferred by the network. It is sum of ‘sbytes’ (Source to destination bytes) and ‘dbytes’ (Destination to source bytes)."
   ]
  },
  {
   "cell_type": "code",
   "execution_count": 83,
   "metadata": {},
   "outputs": [
    {
     "name": "stderr",
     "output_type": "stream",
     "text": [
      "[Stage 150:>                                                        (0 + 8) / 8]\r"
     ]
    },
    {
     "name": "stdout",
     "output_type": "stream",
     "text": [
      "2539553 43\n"
     ]
    },
    {
     "name": "stderr",
     "output_type": "stream",
     "text": [
      "                                                                                \r"
     ]
    }
   ],
   "source": [
    "df_clean = df_clean.withColumn('network_bytes', col('sbytes') + col('dbytes'))\n",
    "\n",
    "# Dropping columns which are not useful for the classification\n",
    "# attack_cat is for multiclass classification\n",
    "df_binary = df_clean.drop('srcip', 'sport', 'dstip', 'dsport', 'attack_cat')\n",
    "\n",
    "print(df_binary.count(), len(df_binary.columns))"
   ]
  },
  {
   "cell_type": "code",
   "execution_count": 84,
   "metadata": {},
   "outputs": [
    {
     "name": "stderr",
     "output_type": "stream",
     "text": [
      "[Stage 153:>                                                        (0 + 8) / 8]\r"
     ]
    },
    {
     "name": "stdout",
     "output_type": "stream",
     "text": [
      "2539553 44\n"
     ]
    },
    {
     "name": "stderr",
     "output_type": "stream",
     "text": [
      "                                                                                \r"
     ]
    }
   ],
   "source": [
    "df_multi = df_clean.drop('srcip', 'sport', 'dstip', 'dsport')\n",
    "\n",
    "print(df_multi.count(), len(df_multi.columns))"
   ]
  },
  {
   "cell_type": "code",
   "execution_count": 85,
   "metadata": {},
   "outputs": [
    {
     "name": "stdout",
     "output_type": "stream",
     "text": [
      "['proto', 'state', 'service']\n"
     ]
    }
   ],
   "source": [
    "print([col.name for col in df_binary.schema if isinstance(col.dataType, StringType)])"
   ]
  },
  {
   "cell_type": "code",
   "execution_count": 86,
   "metadata": {},
   "outputs": [
    {
     "name": "stdout",
     "output_type": "stream",
     "text": [
      "['proto', 'state', 'service', 'attack_cat']\n"
     ]
    }
   ],
   "source": [
    "print([col.name for col in df_multi.schema if isinstance(col.dataType, StringType)])"
   ]
  },
  {
   "cell_type": "markdown",
   "metadata": {},
   "source": [
    "# One Hot encode the categorical variables"
   ]
  },
  {
   "cell_type": "code",
   "execution_count": 87,
   "metadata": {},
   "outputs": [],
   "source": [
    "from pyspark.ml.feature import OneHotEncoder, StringIndexer\n",
    "from pyspark.ml import Pipeline\n",
    "\n",
    "def encode_categorical_columns(df, columns):\n",
    "    indexers = [StringIndexer(inputCol=col, outputCol=col + \"_index\", handleInvalid=\"keep\") for col in columns]\n",
    "    encoder = [OneHotEncoder(inputCol=sidx.getOutputCol(), outputCol=sidx.getOutputCol() + \"_encoded\") for sidx in indexers]\n",
    "    \n",
    "    pipeline = Pipeline(stages=indexers+encoder)\n",
    "    model = pipeline.fit(df)\n",
    "    encoded_df = model.transform(df)\n",
    "    \n",
    "    encoded_df = encoded_df.drop(*columns)\n",
    "    \n",
    "    return encoded_df\n"
   ]
  },
  {
   "cell_type": "code",
   "execution_count": 88,
   "metadata": {},
   "outputs": [
    {
     "name": "stderr",
     "output_type": "stream",
     "text": [
      "                                                                                \r"
     ]
    }
   ],
   "source": [
    "categorical_columns = [\"proto\", \"state\", \"service\"]\n",
    "df_binary = encode_categorical_columns(df_binary, categorical_columns)"
   ]
  },
  {
   "cell_type": "code",
   "execution_count": 89,
   "metadata": {},
   "outputs": [
    {
     "name": "stderr",
     "output_type": "stream",
     "text": [
      "                                                                                \r"
     ]
    }
   ],
   "source": [
    "del categorical_columns\n",
    "\n",
    "categorical_columns = ['proto', 'state', 'service', 'attack_cat']\n",
    "df_multi = encode_categorical_columns(df_multi, categorical_columns)"
   ]
  },
  {
   "cell_type": "code",
   "execution_count": 90,
   "metadata": {},
   "outputs": [
    {
     "name": "stdout",
     "output_type": "stream",
     "text": [
      "+--------+------+------+----+----+-----+-----+---------+---------+-----+-----+----+----+---------+----------+-------+-------+-----------+-----------+---------+---------+--------+--------+-------+-------+-------+---------------+------------+----------------+------------+----------+----------+----------+----------+-----------+----------------+----------------+--------------+-----+-------------+-----------+-----------+-------------+-------------------+-------------------+---------------------+\n",
      "|     dur|sbytes|dbytes|sttl|dttl|sloss|dloss|    Sload|    Dload|Spkts|Dpkts|swin|dwin|    stcpb|     dtcpb|smeansz|dmeansz|trans_depth|res_bdy_len|     Sjit|     Djit| Sintpkt| Dintpkt| tcprtt| synack| ackdat|is_sm_ips_ports|ct_state_ttl|ct_flw_http_mthd|is_ftp_login|ct_ftp_cmd|ct_srv_src|ct_srv_dst|ct_dst_ltm|ct_src_ ltm|ct_src_dport_ltm|ct_dst_sport_ltm|ct_dst_src_ltm|Label|network_bytes|proto_index|state_index|service_index|proto_index_encoded|state_index_encoded|service_index_encoded|\n",
      "+--------+------+------+----+----+-----+-----+---------+---------+-----+-----+----+----+---------+----------+-------+-------+-----------+-----------+---------+---------+--------+--------+-------+-------+-------+---------------+------------+----------------+------------+----------+----------+----------+----------+-----------+----------------+----------------+--------------+-----+-------------+-----------+-----------+-------------+-------------------+-------------------+---------------------+\n",
      "| 0.82546|  7812| 16236|  31|  29|   30|   32| 75090.25|156111.73|  122|  126| 255| 255|        0|         0|     64|    129|          0|          0|445.25928| 474.9451|6.819091|6.599896|5.97E-4|4.69E-4|1.28E-4|              0|           0|               0|           0|         0|         2|         7|         1|          4|               1|               1|             1|    0|        24048|        0.0|        0.0|          0.0|    (134,[0],[1.0])|     (16,[0],[1.0])|       (13,[0],[1.0])|\n",
      "|0.101815|  4238| 65628|  31|  29|    7|   30|328438.84|5087030.5|   72|   74| 255| 255|961515433|         0|     59|    887|          0|          0|      0.0| 91.57957|1.429493|1.387192| 6.8E-4|5.46E-4|1.34E-4|              0|           0|               0|           0|         0|         7|         4|         1|          6|               1|               1|             1|    0|        69866|        0.0|        0.0|          0.0|    (134,[0],[1.0])|     (16,[0],[1.0])|       (13,[0],[1.0])|\n",
      "|0.044003|  2750| 29104|  31|  29|    7|   17|488693.97|5181101.5|   44|   48| 255| 255|        0|1191410228|     63|    606|          0|          0| 78.12697|62.206562|1.014977| 0.92583|0.00125|4.85E-4|7.65E-4|              0|           0|               0|           0|         0|         3|         5|         3|          3|               1|               1|             1|    0|        31854|        0.0|        0.0|          0.0|    (134,[0],[1.0])|     (16,[0],[1.0])|       (13,[0],[1.0])|\n",
      "+--------+------+------+----+----+-----+-----+---------+---------+-----+-----+----+----+---------+----------+-------+-------+-----------+-----------+---------+---------+--------+--------+-------+-------+-------+---------------+------------+----------------+------------+----------+----------+----------+----------+-----------+----------------+----------------+--------------+-----+-------------+-----------+-----------+-------------+-------------------+-------------------+---------------------+\n",
      "only showing top 3 rows\n",
      "\n"
     ]
    }
   ],
   "source": [
    "df_binary.show(3)"
   ]
  },
  {
   "cell_type": "code",
   "execution_count": 91,
   "metadata": {},
   "outputs": [
    {
     "name": "stdout",
     "output_type": "stream",
     "text": [
      "+--------+------+------+----+----+-----+-----+---------+---------+-----+-----+----+----+---------+----------+-------+-------+-----------+-----------+---------+---------+--------+--------+-------+-------+-------+---------------+------------+----------------+------------+----------+----------+----------+----------+-----------+----------------+----------------+--------------+-----+-------------+-----------+-----------+-------------+----------------+-------------------+-------------------+---------------------+------------------------+\n",
      "|     dur|sbytes|dbytes|sttl|dttl|sloss|dloss|    Sload|    Dload|Spkts|Dpkts|swin|dwin|    stcpb|     dtcpb|smeansz|dmeansz|trans_depth|res_bdy_len|     Sjit|     Djit| Sintpkt| Dintpkt| tcprtt| synack| ackdat|is_sm_ips_ports|ct_state_ttl|ct_flw_http_mthd|is_ftp_login|ct_ftp_cmd|ct_srv_src|ct_srv_dst|ct_dst_ltm|ct_src_ ltm|ct_src_dport_ltm|ct_dst_sport_ltm|ct_dst_src_ltm|Label|network_bytes|proto_index|state_index|service_index|attack_cat_index|proto_index_encoded|state_index_encoded|service_index_encoded|attack_cat_index_encoded|\n",
      "+--------+------+------+----+----+-----+-----+---------+---------+-----+-----+----+----+---------+----------+-------+-------+-----------+-----------+---------+---------+--------+--------+-------+-------+-------+---------------+------------+----------------+------------+----------+----------+----------+----------+-----------+----------------+----------------+--------------+-----+-------------+-----------+-----------+-------------+----------------+-------------------+-------------------+---------------------+------------------------+\n",
      "| 0.82546|  7812| 16236|  31|  29|   30|   32| 75090.25|156111.73|  122|  126| 255| 255|        0|         0|     64|    129|          0|          0|445.25928| 474.9451|6.819091|6.599896|5.97E-4|4.69E-4|1.28E-4|              0|           0|               0|           0|         0|         2|         7|         1|          4|               1|               1|             1|    0|        24048|        0.0|        0.0|          0.0|             0.0|    (134,[0],[1.0])|     (16,[0],[1.0])|       (13,[0],[1.0])|          (10,[0],[1.0])|\n",
      "|0.101815|  4238| 65628|  31|  29|    7|   30|328438.84|5087030.5|   72|   74| 255| 255|961515433|         0|     59|    887|          0|          0|      0.0| 91.57957|1.429493|1.387192| 6.8E-4|5.46E-4|1.34E-4|              0|           0|               0|           0|         0|         7|         4|         1|          6|               1|               1|             1|    0|        69866|        0.0|        0.0|          0.0|             0.0|    (134,[0],[1.0])|     (16,[0],[1.0])|       (13,[0],[1.0])|          (10,[0],[1.0])|\n",
      "|0.044003|  2750| 29104|  31|  29|    7|   17|488693.97|5181101.5|   44|   48| 255| 255|        0|1191410228|     63|    606|          0|          0| 78.12697|62.206562|1.014977| 0.92583|0.00125|4.85E-4|7.65E-4|              0|           0|               0|           0|         0|         3|         5|         3|          3|               1|               1|             1|    0|        31854|        0.0|        0.0|          0.0|             0.0|    (134,[0],[1.0])|     (16,[0],[1.0])|       (13,[0],[1.0])|          (10,[0],[1.0])|\n",
      "+--------+------+------+----+----+-----+-----+---------+---------+-----+-----+----+----+---------+----------+-------+-------+-----------+-----------+---------+---------+--------+--------+-------+-------+-------+---------------+------------+----------------+------------+----------+----------+----------+----------+-----------+----------------+----------------+--------------+-----+-------------+-----------+-----------+-------------+----------------+-------------------+-------------------+---------------------+------------------------+\n",
      "only showing top 3 rows\n",
      "\n"
     ]
    }
   ],
   "source": [
    "df_multi.show(3)"
   ]
  },
  {
   "cell_type": "markdown",
   "metadata": {},
   "source": [
    "# Correlation"
   ]
  },
  {
   "cell_type": "markdown",
   "metadata": {},
   "source": [
    "The correlation between each feature and the dependent variable provide elements to tackle potential undesired collinearity."
   ]
  },
  {
   "cell_type": "code",
   "execution_count": 92,
   "metadata": {},
   "outputs": [],
   "source": [
    "spark.conf.set(\"spark.sql.execution.arrow.pyspark.enabled\", \"true\")"
   ]
  },
  {
   "cell_type": "code",
   "execution_count": 93,
   "metadata": {},
   "outputs": [],
   "source": [
    "df_binary = df_binary.drop('attack_cat')"
   ]
  },
  {
   "cell_type": "code",
   "execution_count": 94,
   "metadata": {},
   "outputs": [
    {
     "data": {
      "text/plain": [
       "46"
      ]
     },
     "execution_count": 94,
     "metadata": {},
     "output_type": "execute_result"
    }
   ],
   "source": [
    "len(df_binary.columns)"
   ]
  },
  {
   "cell_type": "code",
   "execution_count": 95,
   "metadata": {},
   "outputs": [],
   "source": [
    "from pyspark.sql.types import IntegerType, LongType, FloatType, DoubleType\n",
    "\n",
    "numeric_types = (IntegerType, LongType, FloatType, DoubleType)  # Tuple of numeric types\n",
    "\n",
    "non_numeric_cols = [col.name for col in df_binary.schema if not isinstance(col.dataType, numeric_types)]\n",
    "numeric_cols = [col.name for col in df_binary.schema if isinstance(col.dataType, numeric_types)]"
   ]
  },
  {
   "cell_type": "code",
   "execution_count": 96,
   "metadata": {},
   "outputs": [
    {
     "data": {
      "text/plain": [
       "['proto_index_encoded', 'state_index_encoded', 'service_index_encoded']"
      ]
     },
     "execution_count": 96,
     "metadata": {},
     "output_type": "execute_result"
    }
   ],
   "source": [
    "non_numeric_cols"
   ]
  },
  {
   "cell_type": "code",
   "execution_count": 97,
   "metadata": {},
   "outputs": [
    {
     "data": {
      "text/plain": [
       "43"
      ]
     },
     "execution_count": 97,
     "metadata": {},
     "output_type": "execute_result"
    }
   ],
   "source": [
    "len(numeric_cols)"
   ]
  },
  {
   "cell_type": "markdown",
   "metadata": {},
   "source": [
    "We want to analyze the `correlation` between the \"Label\" variable and features like 'sport','dsport','dur','sbytes','dbytes','sttl','dttl','Sload','Dload','Spkts','Dpkts','swin','dwin','ct_src_dport_ltm''ct_dst_sport_ltm','ct_dst_src_ltm',”"
   ]
  },
  {
   "cell_type": "code",
   "execution_count": 98,
   "metadata": {},
   "outputs": [],
   "source": [
    "target = 'Label'\n",
    "indep_cols = [x for x in df_binary[numeric_cols].columns if x not in [target]]"
   ]
  },
  {
   "cell_type": "code",
   "execution_count": 99,
   "metadata": {},
   "outputs": [],
   "source": [
    "from pyspark.ml.stat import Correlation\n",
    "from pyspark.ml.feature import VectorAssembler\n",
    "from pyspark.sql.functions import lit\n",
    "from pyspark.sql.functions import abs as abs_spark\n",
    "from pyspark.sql.functions import lit\n",
    "from pyspark.sql.types import FloatType, StructType, StructField, StringType\n",
    "\n",
    "\n",
    "def correlation_df(df, target_var, feature_cols, method):\n",
    "    # Assemble features into a vector\n",
    "    target_var = [target_var]\n",
    "    feature_cols = indep_cols\n",
    "    df_cor = df.select(target_var+feature_cols)\n",
    "    assembler = VectorAssembler(inputCols=target_var+feature_cols, outputCol=\"features\")\n",
    "    df_cor = assembler.transform(df_cor)\n",
    "\n",
    "    correlation_matrix = Correlation.corr(df_cor, \"features\", method=method).head()\n",
    "    target_corr_list = [correlation_matrix[0][i, 0] for i in range(len(feature_cols)+1)][1:]\n",
    "\n",
    "    # Create a list of tuples with feature names and their corresponding correlations\n",
    "    correlation_data = [(feature_cols[i], float(target_corr_list[i])) for i in range(len(feature_cols))]\n",
    "\n",
    "    # Define the schema for the DataFrame\n",
    "    schema = StructType([\n",
    "        StructField(\"feature\", StringType(), nullable=False),\n",
    "        StructField(\"correlation\", FloatType(), nullable=False)\n",
    "    ])\n",
    "\n",
    "    # Create the DataFrame with the specified schema\n",
    "    correlation_df = spark.createDataFrame(correlation_data, schema)\n",
    "    correlation_df.show(5)\n",
    "    correlation_df = correlation_df.withColumn(\"abs_correlation\", abs_spark(correlation_df[\"correlation\"]))\n",
    "\n",
    "    return correlation_df"
   ]
  },
  {
   "cell_type": "code",
   "execution_count": 100,
   "metadata": {},
   "outputs": [
    {
     "name": "stdout",
     "output_type": "stream",
     "text": [
      "+--------+------+------+----+----+-----+-----+---------+---------+-----+-----+----+----+---------+----------+-------+-------+-----------+-----------+---------+---------+--------+--------+-------+-------+-------+---------------+------------+----------------+------------+----------+----------+----------+----------+-----------+----------------+----------------+--------------+-----+-------------+-----------+-----------+-------------+-------------------+-------------------+---------------------+\n",
      "|     dur|sbytes|dbytes|sttl|dttl|sloss|dloss|    Sload|    Dload|Spkts|Dpkts|swin|dwin|    stcpb|     dtcpb|smeansz|dmeansz|trans_depth|res_bdy_len|     Sjit|     Djit| Sintpkt| Dintpkt| tcprtt| synack| ackdat|is_sm_ips_ports|ct_state_ttl|ct_flw_http_mthd|is_ftp_login|ct_ftp_cmd|ct_srv_src|ct_srv_dst|ct_dst_ltm|ct_src_ ltm|ct_src_dport_ltm|ct_dst_sport_ltm|ct_dst_src_ltm|Label|network_bytes|proto_index|state_index|service_index|proto_index_encoded|state_index_encoded|service_index_encoded|\n",
      "+--------+------+------+----+----+-----+-----+---------+---------+-----+-----+----+----+---------+----------+-------+-------+-----------+-----------+---------+---------+--------+--------+-------+-------+-------+---------------+------------+----------------+------------+----------+----------+----------+----------+-----------+----------------+----------------+--------------+-----+-------------+-----------+-----------+-------------+-------------------+-------------------+---------------------+\n",
      "| 0.82546|  7812| 16236|  31|  29|   30|   32| 75090.25|156111.73|  122|  126| 255| 255|        0|         0|     64|    129|          0|          0|445.25928| 474.9451|6.819091|6.599896|5.97E-4|4.69E-4|1.28E-4|              0|           0|               0|           0|         0|         2|         7|         1|          4|               1|               1|             1|    0|        24048|        0.0|        0.0|          0.0|    (134,[0],[1.0])|     (16,[0],[1.0])|       (13,[0],[1.0])|\n",
      "|0.101815|  4238| 65628|  31|  29|    7|   30|328438.84|5087030.5|   72|   74| 255| 255|961515433|         0|     59|    887|          0|          0|      0.0| 91.57957|1.429493|1.387192| 6.8E-4|5.46E-4|1.34E-4|              0|           0|               0|           0|         0|         7|         4|         1|          6|               1|               1|             1|    0|        69866|        0.0|        0.0|          0.0|    (134,[0],[1.0])|     (16,[0],[1.0])|       (13,[0],[1.0])|\n",
      "|0.044003|  2750| 29104|  31|  29|    7|   17|488693.97|5181101.5|   44|   48| 255| 255|        0|1191410228|     63|    606|          0|          0| 78.12697|62.206562|1.014977| 0.92583|0.00125|4.85E-4|7.65E-4|              0|           0|               0|           0|         0|         3|         5|         3|          3|               1|               1|             1|    0|        31854|        0.0|        0.0|          0.0|    (134,[0],[1.0])|     (16,[0],[1.0])|       (13,[0],[1.0])|\n",
      "+--------+------+------+----+----+-----+-----+---------+---------+-----+-----+----+----+---------+----------+-------+-------+-----------+-----------+---------+---------+--------+--------+-------+-------+-------+---------------+------------+----------------+------------+----------+----------+----------+----------+-----------+----------------+----------------+--------------+-----+-------------+-----------+-----------+-------------+-------------------+-------------------+---------------------+\n",
      "only showing top 3 rows\n",
      "\n"
     ]
    }
   ],
   "source": [
    "df_binary.show(3)"
   ]
  },
  {
   "cell_type": "code",
   "execution_count": 101,
   "metadata": {},
   "outputs": [
    {
     "name": "stderr",
     "output_type": "stream",
     "text": [
      "24/05/13 21:14:29 WARN InstanceBuilder: Failed to load implementation from:dev.ludovic.netlib.blas.JNIBLAS\n",
      "24/05/13 21:14:29 WARN InstanceBuilder: Failed to load implementation from:dev.ludovic.netlib.blas.VectorBLAS\n",
      "                                                                                \r"
     ]
    },
    {
     "name": "stdout",
     "output_type": "stream",
     "text": [
      "+-------+------------+\n",
      "|feature| correlation|\n",
      "+-------+------------+\n",
      "|    dur|0.0019442843|\n",
      "| sbytes| 0.010178404|\n",
      "| dbytes|-0.075556874|\n",
      "|   sttl|   0.9044335|\n",
      "|   dttl|  0.13481387|\n",
      "+-------+------------+\n",
      "only showing top 5 rows\n",
      "\n"
     ]
    },
    {
     "name": "stderr",
     "output_type": "stream",
     "text": [
      "                                                                                \r"
     ]
    }
   ],
   "source": [
    "df_corr = correlation_df(\n",
    "    df = df_binary[numeric_cols],\n",
    "    target_var = target,\n",
    "    feature_cols = indep_cols,\n",
    "    method = 'pearson'\n",
    ")"
   ]
  },
  {
   "cell_type": "code",
   "execution_count": 102,
   "metadata": {},
   "outputs": [
    {
     "name": "stdout",
     "output_type": "stream",
     "text": [
      "+-----------+------------+---------------+\n",
      "|    feature| correlation|abs_correlation|\n",
      "+-----------+------------+---------------+\n",
      "|        dur|0.0019442843|   0.0019442843|\n",
      "|     sbytes| 0.010178404|    0.010178404|\n",
      "|     dbytes|-0.075556874|    0.075556874|\n",
      "|       sttl|   0.9044335|      0.9044335|\n",
      "|       dttl|  0.13481387|     0.13481387|\n",
      "|      sloss|-0.043279067|    0.043279067|\n",
      "|      dloss|-0.095869675|    0.095869675|\n",
      "|      Sload|  0.19232309|     0.19232309|\n",
      "|      Dload| -0.21975224|     0.21975224|\n",
      "|      Spkts| -0.12089594|     0.12089594|\n",
      "|      Dpkts| -0.11596305|     0.11596305|\n",
      "|       swin| -0.31521404|     0.31521404|\n",
      "|       dwin| -0.31402498|     0.31402498|\n",
      "|      stcpb| -0.14036685|     0.14036685|\n",
      "|      dtcpb| -0.13981791|     0.13981791|\n",
      "|    smeansz| -0.06536615|     0.06536615|\n",
      "|    dmeansz| -0.27246234|     0.27246234|\n",
      "|trans_depth|-0.029053038|    0.029053038|\n",
      "|res_bdy_len|-0.027343888|    0.027343888|\n",
      "|       Sjit| 0.020904671|    0.020904671|\n",
      "+-----------+------------+---------------+\n",
      "only showing top 20 rows\n",
      "\n"
     ]
    }
   ],
   "source": [
    "df_corr.show()"
   ]
  },
  {
   "cell_type": "code",
   "execution_count": 103,
   "metadata": {},
   "outputs": [
    {
     "name": "stdout",
     "output_type": "stream",
     "text": [
      "+----------------+-----------+---------------+\n",
      "|         feature|correlation|abs_correlation|\n",
      "+----------------+-----------+---------------+\n",
      "|            sttl|  0.9044335|      0.9044335|\n",
      "|    ct_state_ttl|  0.8736964|      0.8736964|\n",
      "|     state_index| 0.47992578|     0.47992578|\n",
      "|  ct_dst_src_ltm|  0.4399255|      0.4399255|\n",
      "|ct_dst_sport_ltm|  0.4190626|      0.4190626|\n",
      "|ct_src_dport_ltm| 0.39675435|     0.39675435|\n",
      "|      ct_srv_dst| 0.38651243|     0.38651243|\n",
      "|      ct_srv_src| 0.38301024|     0.38301024|\n",
      "|     ct_src_ ltm|   0.343249|       0.343249|\n",
      "|      ct_dst_ltm| 0.33946964|     0.33946964|\n",
      "|            swin|-0.31521404|     0.31521404|\n",
      "|            dwin|-0.31402498|     0.31402498|\n",
      "|         dmeansz|-0.27246234|     0.27246234|\n",
      "|           Dload|-0.21975224|     0.21975224|\n",
      "|     proto_index| 0.21721701|     0.21721701|\n",
      "|           Sload| 0.19232309|     0.19232309|\n",
      "|          ackdat| 0.14339833|     0.14339833|\n",
      "|          tcprtt| 0.14306657|     0.14306657|\n",
      "|           stcpb|-0.14036685|     0.14036685|\n",
      "|           dtcpb|-0.13981791|     0.13981791|\n",
      "+----------------+-----------+---------------+\n",
      "only showing top 20 rows\n",
      "\n"
     ]
    }
   ],
   "source": [
    "from pyspark.sql.functions import desc\n",
    "\n",
    "df_corr.orderBy(desc(\"abs_correlation\")).show()"
   ]
  },
  {
   "cell_type": "markdown",
   "metadata": {},
   "source": [
    "Highly correlated features indicating they may be more important predictors of the target variable. This will improve model accuracy."
   ]
  },
  {
   "cell_type": "markdown",
   "metadata": {},
   "source": [
    "# Model Building"
   ]
  },
  {
   "cell_type": "code",
   "execution_count": 104,
   "metadata": {},
   "outputs": [],
   "source": [
    "df_binary = df_binary.withColumnRenamed(\"ct_src_ ltm\", \"ct_src_ltm\")"
   ]
  },
  {
   "cell_type": "code",
   "execution_count": 105,
   "metadata": {},
   "outputs": [],
   "source": [
    "# attack_cat_index\n",
    "df_multi = df_multi.withColumnRenamed(\"ct_src_ ltm\", \"ct_src_ltm\")"
   ]
  },
  {
   "cell_type": "markdown",
   "metadata": {},
   "source": [
    "# Binary Classification"
   ]
  },
  {
   "cell_type": "code",
   "execution_count": 106,
   "metadata": {},
   "outputs": [],
   "source": [
    "from pyspark.ml.feature import VectorAssembler\n",
    "\n",
    "vector_assembler = VectorAssembler(inputCols = df_binary.columns, outputCol= \"features\")\n",
    "data_training_and_test = vector_assembler.transform(df_binary)"
   ]
  },
  {
   "cell_type": "code",
   "execution_count": 107,
   "metadata": {},
   "outputs": [
    {
     "name": "stdout",
     "output_type": "stream",
     "text": [
      "+--------+------+------+----+----+-----+-----+---------+---------+-----+-----+----+----+---------+----------+-------+-------+-----------+-----------+---------+---------+--------+--------+-------+-------+-------+---------------+------------+----------------+------------+----------+----------+----------+----------+----------+----------------+----------------+--------------+-----+-------------+-----------+-----------+-------------+-------------------+-------------------+---------------------+--------------------+\n",
      "|     dur|sbytes|dbytes|sttl|dttl|sloss|dloss|    Sload|    Dload|Spkts|Dpkts|swin|dwin|    stcpb|     dtcpb|smeansz|dmeansz|trans_depth|res_bdy_len|     Sjit|     Djit| Sintpkt| Dintpkt| tcprtt| synack| ackdat|is_sm_ips_ports|ct_state_ttl|ct_flw_http_mthd|is_ftp_login|ct_ftp_cmd|ct_srv_src|ct_srv_dst|ct_dst_ltm|ct_src_ltm|ct_src_dport_ltm|ct_dst_sport_ltm|ct_dst_src_ltm|Label|network_bytes|proto_index|state_index|service_index|proto_index_encoded|state_index_encoded|service_index_encoded|            features|\n",
      "+--------+------+------+----+----+-----+-----+---------+---------+-----+-----+----+----+---------+----------+-------+-------+-----------+-----------+---------+---------+--------+--------+-------+-------+-------+---------------+------------+----------------+------------+----------+----------+----------+----------+----------+----------------+----------------+--------------+-----+-------------+-----------+-----------+-------------+-------------------+-------------------+---------------------+--------------------+\n",
      "| 0.82546|  7812| 16236|  31|  29|   30|   32| 75090.25|156111.73|  122|  126| 255| 255|        0|         0|     64|    129|          0|          0|445.25928| 474.9451|6.819091|6.599896|5.97E-4|4.69E-4|1.28E-4|              0|           0|               0|           0|         0|         2|         7|         1|         4|               1|               1|             1|    0|        24048|        0.0|        0.0|          0.0|    (134,[0],[1.0])|     (16,[0],[1.0])|       (13,[0],[1.0])|(206,[0,1,2,3,4,5...|\n",
      "|0.101815|  4238| 65628|  31|  29|    7|   30|328438.84|5087030.5|   72|   74| 255| 255|961515433|         0|     59|    887|          0|          0|      0.0| 91.57957|1.429493|1.387192| 6.8E-4|5.46E-4|1.34E-4|              0|           0|               0|           0|         0|         7|         4|         1|         6|               1|               1|             1|    0|        69866|        0.0|        0.0|          0.0|    (134,[0],[1.0])|     (16,[0],[1.0])|       (13,[0],[1.0])|(206,[0,1,2,3,4,5...|\n",
      "|0.044003|  2750| 29104|  31|  29|    7|   17|488693.97|5181101.5|   44|   48| 255| 255|        0|1191410228|     63|    606|          0|          0| 78.12697|62.206562|1.014977| 0.92583|0.00125|4.85E-4|7.65E-4|              0|           0|               0|           0|         0|         3|         5|         3|         3|               1|               1|             1|    0|        31854|        0.0|        0.0|          0.0|    (134,[0],[1.0])|     (16,[0],[1.0])|       (13,[0],[1.0])|(206,[0,1,2,3,4,5...|\n",
      "+--------+------+------+----+----+-----+-----+---------+---------+-----+-----+----+----+---------+----------+-------+-------+-----------+-----------+---------+---------+--------+--------+-------+-------+-------+---------------+------------+----------------+------------+----------+----------+----------+----------+----------+----------------+----------------+--------------+-----+-------------+-----------+-----------+-------------+-------------------+-------------------+---------------------+--------------------+\n",
      "only showing top 3 rows\n",
      "\n"
     ]
    }
   ],
   "source": [
    "data_training_and_test.show(3)"
   ]
  },
  {
   "cell_type": "code",
   "execution_count": 108,
   "metadata": {},
   "outputs": [
    {
     "name": "stderr",
     "output_type": "stream",
     "text": [
      "24/05/13 21:14:57 WARN InstanceBuilder: Failed to load implementation from:dev.ludovic.netlib.lapack.JNILAPACK\n"
     ]
    }
   ],
   "source": [
    "from pyspark.ml.feature import PCA\n",
    "\n",
    "pca_model = PCA(k = 30,inputCol = \"features\", outputCol = \"pca_features\")\n",
    "model = pca_model.fit(data_training_and_test)\n",
    "data_training_and_test = model.transform(data_training_and_test)"
   ]
  },
  {
   "cell_type": "code",
   "execution_count": 109,
   "metadata": {},
   "outputs": [
    {
     "name": "stdout",
     "output_type": "stream",
     "text": [
      "+--------+------+------+----+----+-----+-----+---------+---------+-----+-----+----+----+----------+----------+-------+-------+-----------+-----------+---------+---------+---------+---------+-------+-------+-------+---------------+------------+----------------+------------+----------+----------+----------+----------+----------+----------------+----------------+--------------+-----+-------------+-----------+-----------+-------------+-------------------+-------------------+---------------------+--------------------+--------------------+\n",
      "|     dur|sbytes|dbytes|sttl|dttl|sloss|dloss|    Sload|    Dload|Spkts|Dpkts|swin|dwin|     stcpb|     dtcpb|smeansz|dmeansz|trans_depth|res_bdy_len|     Sjit|     Djit|  Sintpkt|  Dintpkt| tcprtt| synack| ackdat|is_sm_ips_ports|ct_state_ttl|ct_flw_http_mthd|is_ftp_login|ct_ftp_cmd|ct_srv_src|ct_srv_dst|ct_dst_ltm|ct_src_ltm|ct_src_dport_ltm|ct_dst_sport_ltm|ct_dst_src_ltm|Label|network_bytes|proto_index|state_index|service_index|proto_index_encoded|state_index_encoded|service_index_encoded|            features|        pca_features|\n",
      "+--------+------+------+----+----+-----+-----+---------+---------+-----+-----+----+----+----------+----------+-------+-------+-----------+-----------+---------+---------+---------+---------+-------+-------+-------+---------------+------------+----------------+------------+----------+----------+----------+----------+----------+----------------+----------------+--------------+-----+-------------+-----------+-----------+-------------+-------------------+-------------------+---------------------+--------------------+--------------------+\n",
      "| 0.82546|  7812| 16236|  31|  29|   30|   32| 75090.25|156111.73|  122|  126| 255| 255|         0|         0|     64|    129|          0|          0|445.25928| 474.9451| 6.819091| 6.599896|5.97E-4|4.69E-4|1.28E-4|              0|           0|               0|           0|         0|         2|         7|         1|         4|               1|               1|             1|    0|        24048|        0.0|        0.0|          0.0|    (134,[0],[1.0])|     (16,[0],[1.0])|       (13,[0],[1.0])|(206,[0,1,2,3,4,5...|[2404.24580860486...|\n",
      "|0.101815|  4238| 65628|  31|  29|    7|   30|328438.84|5087030.5|   72|   74| 255| 255| 961515433|         0|     59|    887|          0|          0|      0.0| 91.57957| 1.429493| 1.387192| 6.8E-4|5.46E-4|1.34E-4|              0|           0|               0|           0|         0|         7|         4|         1|         6|               1|               1|             1|    0|        69866|        0.0|        0.0|          0.0|    (134,[0],[1.0])|     (16,[0],[1.0])|       (13,[0],[1.0])|(206,[0,1,2,3,4,5...|[-6.8019651471545...|\n",
      "|0.044003|  2750| 29104|  31|  29|    7|   17|488693.97|5181101.5|   44|   48| 255| 255|         0|1191410228|     63|    606|          0|          0| 78.12697|62.206562| 1.014977|  0.92583|0.00125|4.85E-4|7.65E-4|              0|           0|               0|           0|         0|         3|         5|         3|         3|               1|               1|             1|    0|        31854|        0.0|        0.0|          0.0|    (134,[0],[1.0])|     (16,[0],[1.0])|       (13,[0],[1.0])|(206,[0,1,2,3,4,5...|[-8.4102990502948...|\n",
      "| 2.79083| 10476|395734|  31|  29|   16|  143|29863.518|1130840.8|  180|  320| 255| 255|         0|         0|     58|   1237|          0|          0|2707.4927| 2018.976|15.589459| 8.747012|6.84E-4|5.32E-4|1.52E-4|              0|           0|               0|           0|         0|        11|         4|         3|         2|               1|               1|             1|    0|       406210|        0.0|        0.0|          0.0|    (134,[0],[1.0])|     (16,[0],[1.0])|       (13,[0],[1.0])|(206,[0,1,2,3,4,5...|[-586.37927083804...|\n",
      "|  2.6335| 13350|548216|  31|  29|   21|  197| 40381.24|1661560.6|  232|  438| 255| 255|   1518931|  18267719|     58|   1252|          0|          0| 718.3368|500.57288|11.399026| 6.025183|6.19E-4|4.89E-4| 1.3E-4|              0|           0|               0|           0|         0|        16|         7|         7|         1|               1|               1|             1|    0|       561566|        0.0|        0.0|          0.0|    (134,[0],[1.0])|     (16,[0],[1.0])|       (13,[0],[1.0])|(206,[0,1,2,3,4,5...|[-1.3971050793073...|\n",
      "|0.115048|  1958|  2308|  31|  29|    6|    6|129963.15|153814.06|   22|   24| 255| 255|         0|         0|     89|     96|          0|          0|435.26627|417.08563| 5.460381| 4.976913| 7.1E-4|5.73E-4|1.37E-4|              0|           0|               0|           0|         0|         2|         6|         1|         4|               1|               1|             1|    0|         4266|        0.0|        0.0|          0.0|    (134,[0],[1.0])|     (16,[0],[1.0])|       (13,[0],[1.0])|(206,[0,1,2,3,4,5...|[4328.61284924735...|\n",
      "|0.003362|   146|   178|  31|  29|    0|    0|173706.12| 211778.7|    2|    2|   0|   0|         0|         0|     73|     89|          0|          0|      0.0|      0.0|    0.011|    0.006|    0.0|    0.0|    0.0|              0|           0|               0|           0|         0|         3|         2|         3|         3|               3|               1|             1|    0|          324|        1.0|        1.0|          1.0|    (134,[1],[1.0])|     (16,[1],[1.0])|       (13,[1],[1.0])|(206,[0,1,2,3,4,7...|[5776.93407227175...|\n",
      "|0.453052|   424|  8824|  31|  29|    1|    4| 6551.124| 142835.7|    8|   12| 255| 255|         0|         0|     53|    735|          0|          0| 3906.795|3074.6694| 64.67129|   41.135| 6.8E-4|5.59E-4|1.21E-4|              0|           0|               0|           0|         0|         4|         6|         7|         4|               1|               1|             2|    0|         9248|        0.0|        0.0|          3.0|    (134,[0],[1.0])|     (16,[0],[1.0])|       (13,[3],[1.0])|(206,[0,1,2,3,4,5...|[25.2993993205690...|\n",
      "|0.001088|   146|   178|  31|  29|    0|    0| 536764.7|654411.75|    2|    2|   0|   0|         0|         0|     73|     89|          0|          0|      0.0|      0.0|    0.001|    0.009|    0.0|    0.0|    0.0|              0|           0|               0|           0|         0|         2|         5|         3|         2|               1|               1|             1|    0|          324|        1.0|        1.0|          1.0|    (134,[1],[1.0])|     (16,[1],[1.0])|       (13,[1],[1.0])|(206,[0,1,2,3,4,7...|[17851.1785791472...|\n",
      "| 9.69E-4|   146|   178|  31|  29|    0|    0| 602683.2| 734778.1|    2|    2|   0|   0|         0|         0|     73|     89|          0|          0|      0.0|      0.0|     0.01|    0.003|    0.0|    0.0|    0.0|              0|           0|               0|           0|         0|         3|         1|         2|         3|               3|               1|             1|    0|          324|        1.0|        1.0|          1.0|    (134,[1],[1.0])|     (16,[1],[1.0])|       (13,[1],[1.0])|(206,[0,1,2,3,4,7...|[20043.4312269775...|\n",
      "|0.001063|   146|   178|  31|  29|    0|    0|549388.56| 669802.5|    2|    2|   0|   0|         0|         0|     73|     89|          0|          0|      0.0|      0.0|    0.002|    0.003|    0.0|    0.0|    0.0|              0|           0|               0|           0|         0|         5|         3|         2|         4|               3|               1|             1|    0|          324|        1.0|        1.0|          1.0|    (134,[1],[1.0])|     (16,[1],[1.0])|       (13,[1],[1.0])|(206,[0,1,2,3,4,7...|[18271.0109976506...|\n",
      "|0.265011|  8928|   320|  31|  29|    4|    1|250283.94|8060.0425|   14|    6| 255| 255|         0|         0|    638|     53|          0|          0|1725.2916| 71.46425|20.385462|52.644802|7.75E-4|6.33E-4|1.42E-4|              0|           0|               0|           0|         0|         3|         6|         6|         5|               1|               1|             2|    0|         9248|        0.0|        0.0|          3.0|    (134,[0],[1.0])|     (16,[0],[1.0])|       (13,[3],[1.0])|(206,[0,1,2,3,4,5...|[8746.63621813176...|\n",
      "|0.517128|  1540|  1644|  31|  29|    4|    4|22338.764|  24025.0|   16|   18| 255| 255|1741520309|         0|     96|     91|          0|          0|2036.1301| 51.91766| 34.43333|30.388353|6.54E-4|5.22E-4|1.32E-4|              0|           0|               0|           0|         0|         4|         6|         5|         7|               4|               1|             4|    0|         3184|        0.0|        0.0|          0.0|    (134,[0],[1.0])|     (16,[0],[1.0])|       (13,[0],[1.0])|(206,[0,1,2,3,4,5...|[-1.2319955295289...|\n",
      "|0.005339|   568|   312|  31|  29|    0|    0| 638321.8|350627.47|    4|    4|   0|   0|         0|         0|    142|     78|          0|          0|  1.74302| 1.757632|     1.24| 1.252333|    0.0|    0.0|    0.0|              0|           0|               0|           0|         0|        16|         7|         5|         5|               1|               1|             4|    0|          880|        1.0|        1.0|          0.0|    (134,[1],[1.0])|     (16,[1],[1.0])|       (13,[0],[1.0])|(206,[0,1,2,3,4,7...|[21837.8034194396...|\n",
      "|0.001739|   512|   304|  31|  29|    0|    0|1766532.5|1048878.6|    4|    4|   0|   0|         0|         0|    128|     76|          0|          0| 0.630268| 0.318434| 0.449667| 0.227667|    0.0|    0.0|    0.0|              0|           0|               0|           0|         0|        16|         7|         5|         5|               1|               1|             4|    0|          816|        1.0|        1.0|          0.0|    (134,[1],[1.0])|     (16,[1],[1.0])|       (13,[0],[1.0])|(206,[0,1,2,3,4,7...|[60323.5166126315...|\n",
      "|0.001018|   146|   178|  31|  29|    0|    0| 573673.9| 699410.6|    2|    2|   0|   0|         0|         0|     73|     89|          0|          0|      0.0|      0.0|    0.011|    0.011|    0.0|    0.0|    0.0|              0|           0|               0|           0|         0|         2|         5|         3|         5|               1|               1|             1|    0|          324|        1.0|        1.0|          1.0|    (134,[1],[1.0])|     (16,[1],[1.0])|       (13,[1],[1.0])|(206,[0,1,2,3,4,7...|[19078.6680240739...|\n",
      "|0.001044|   146|   178|  31|  29|    0|    0|559386.94| 681992.3|    2|    2|   0|   0|         0|         0|     73|     89|          0|          0|      0.0|      0.0|    0.011|    0.003|    0.0|    0.0|    0.0|              0|           0|               0|           0|         0|         2|         3|         5|         7|               2|               1|             3|    0|          324|        1.0|        1.0|          1.0|    (134,[1],[1.0])|     (16,[1],[1.0])|       (13,[1],[1.0])|(206,[0,1,2,3,4,7...|[18603.5270992468...|\n",
      "| 9.87E-4|   146|   178|  31|  29|    0|    0| 591692.0|721377.94|    2|    2|   0|   0|         0|         0|     73|     89|          0|          0|      0.0|      0.0|    0.008|    0.003|    0.0|    0.0|    0.0|              0|           0|               0|           0|         0|         2|         5|         3|         3|               1|               1|             1|    0|          324|        1.0|        1.0|          1.0|    (134,[1],[1.0])|     (16,[1],[1.0])|       (13,[1],[1.0])|(206,[0,1,2,3,4,7...|[19677.8970866268...|\n",
      "|2.254712|  2934|  3740|  31|  29|   11|   15|10211.503|13025.166|   52|   54| 255| 255| 241515551|         0|     56|     69|          0|          0|3141.3708| 99.93412|44.203648|42.531734|6.61E-4|5.25E-4|1.36E-4|              0|           0|               0|           0|         0|         1|         3|         6|         5|               1|               1|             2|    0|         6674|        0.0|        0.0|          5.0|    (134,[0],[1.0])|     (16,[0],[1.0])|       (13,[5],[1.0])|(206,[0,1,2,3,4,5...|[-1.7085397660483...|\n",
      "|0.051221|  2854| 29104|  31|  29|    7|   17|436071.16|4450987.0|   46|   48| 255| 255|1921515932|1974066994|     62|    606|          0|          0|78.226654| 76.38798| 1.129422|  1.07817| 8.1E-4|5.43E-4|2.67E-4|              0|           0|               0|           0|         0|         7|         2|         5|         5|               1|               1|             2|    0|        31958|        0.0|        0.0|          0.0|    (134,[0],[1.0])|     (16,[0],[1.0])|       (13,[0],[1.0])|(206,[0,1,2,3,4,5...|[-2.7528531330672...|\n",
      "+--------+------+------+----+----+-----+-----+---------+---------+-----+-----+----+----+----------+----------+-------+-------+-----------+-----------+---------+---------+---------+---------+-------+-------+-------+---------------+------------+----------------+------------+----------+----------+----------+----------+----------+----------------+----------------+--------------+-----+-------------+-----------+-----------+-------------+-------------------+-------------------+---------------------+--------------------+--------------------+\n",
      "only showing top 20 rows\n",
      "\n"
     ]
    }
   ],
   "source": [
    "data_training_and_test.show()"
   ]
  },
  {
   "cell_type": "markdown",
   "metadata": {},
   "source": [
    "# Multiclass Classification"
   ]
  },
  {
   "cell_type": "code",
   "execution_count": 110,
   "metadata": {},
   "outputs": [
    {
     "name": "stderr",
     "output_type": "stream",
     "text": [
      "                                                                                \r"
     ]
    }
   ],
   "source": [
    "vector_assembler_multi = VectorAssembler(inputCols = df_multi.columns, outputCol= \"features\")\n",
    "multi_data_training_and_test = vector_assembler_multi.transform(df_multi)\n",
    "\n",
    "\n",
    "pca_model = PCA(k = 30,inputCol = \"features\", outputCol = \"pca_features\")\n",
    "model = pca_model.fit(multi_data_training_and_test)\n",
    "multi_data_training_and_test = model.transform(multi_data_training_and_test)"
   ]
  },
  {
   "cell_type": "markdown",
   "metadata": {},
   "source": [
    "# Modeling fitting and tuning"
   ]
  },
  {
   "cell_type": "markdown",
   "metadata": {},
   "source": [
    "We are splitting the data in to 70% train and 30% test"
   ]
  },
  {
   "cell_type": "code",
   "execution_count": 111,
   "metadata": {},
   "outputs": [
    {
     "name": "stderr",
     "output_type": "stream",
     "text": [
      "24/05/13 21:15:59 WARN MemoryStore: Not enough space to cache rdd_551_6 in memory! (computed 17.6 MiB so far)\n",
      "24/05/13 21:15:59 WARN BlockManager: Persisting block rdd_551_6 to disk instead.\n",
      "24/05/13 21:15:59 WARN MemoryStore: Not enough space to cache rdd_551_2 in memory! (computed 41.7 MiB so far)\n",
      "24/05/13 21:15:59 WARN BlockManager: Persisting block rdd_551_2 to disk instead.\n",
      "24/05/13 21:15:59 WARN MemoryStore: Not enough space to cache rdd_551_7 in memory! (computed 41.7 MiB so far)\n",
      "24/05/13 21:15:59 WARN BlockManager: Persisting block rdd_551_7 to disk instead.\n",
      "24/05/13 21:15:59 WARN MemoryStore: Not enough space to cache rdd_551_5 in memory! (computed 26.4 MiB so far)\n",
      "24/05/13 21:15:59 WARN BlockManager: Persisting block rdd_551_5 to disk instead.\n",
      "24/05/13 21:15:59 WARN MemoryStore: Not enough space to cache rdd_551_4 in memory! (computed 41.7 MiB so far)\n",
      "24/05/13 21:15:59 WARN BlockManager: Persisting block rdd_551_4 to disk instead.\n",
      "24/05/13 21:16:00 WARN MemoryStore: Not enough space to cache rdd_551_1 in memory! (computed 62.6 MiB so far)\n",
      "24/05/13 21:16:00 WARN BlockManager: Persisting block rdd_551_1 to disk instead.\n",
      "24/05/13 21:16:01 WARN MemoryStore: Not enough space to cache rdd_551_0 in memory! (computed 62.6 MiB so far)\n",
      "24/05/13 21:16:01 WARN BlockManager: Persisting block rdd_551_0 to disk instead.\n",
      "24/05/13 21:16:01 WARN MemoryStore: Not enough space to cache rdd_551_2 in memory! (computed 62.6 MiB so far)\n",
      "24/05/13 21:16:01 WARN MemoryStore: Not enough space to cache rdd_551_6 in memory! (computed 11.7 MiB so far)\n",
      "24/05/13 21:16:01 WARN MemoryStore: Not enough space to cache rdd_551_5 in memory! (computed 17.6 MiB so far)\n",
      "24/05/13 21:16:01 WARN MemoryStore: Not enough space to cache rdd_551_4 in memory! (computed 62.6 MiB so far)\n",
      "24/05/13 21:16:02 WARN MemoryStore: Not enough space to cache rdd_551_5 in memory! (computed 26.4 MiB so far)\n",
      "24/05/13 21:16:02 WARN MemoryStore: Not enough space to cache rdd_551_4 in memory! (computed 41.7 MiB so far)\n",
      "24/05/13 21:16:03 WARN MemoryStore: Not enough space to cache rdd_551_2 in memory! (computed 41.7 MiB so far)\n",
      "24/05/13 21:16:03 WARN MemoryStore: Not enough space to cache rdd_551_6 in memory! (computed 62.6 MiB so far)\n",
      "24/05/13 21:16:03 WARN MemoryStore: Not enough space to cache rdd_551_2 in memory! (computed 41.7 MiB so far)\n",
      "24/05/13 21:16:03 WARN MemoryStore: Not enough space to cache rdd_551_6 in memory! (computed 41.7 MiB so far)\n",
      "24/05/13 21:16:03 WARN MemoryStore: Not enough space to cache rdd_551_4 in memory! (computed 41.7 MiB so far)\n",
      "24/05/13 21:16:03 WARN MemoryStore: Not enough space to cache rdd_551_5 in memory! (computed 41.7 MiB so far)\n",
      "24/05/13 21:16:04 WARN MemoryStore: Not enough space to cache rdd_551_2 in memory! (computed 41.7 MiB so far)\n",
      "24/05/13 21:16:04 WARN MemoryStore: Not enough space to cache rdd_551_4 in memory! (computed 41.7 MiB so far)\n",
      "24/05/13 21:16:05 WARN MemoryStore: Not enough space to cache rdd_551_5 in memory! (computed 41.7 MiB so far)\n",
      "24/05/13 21:16:05 WARN MemoryStore: Not enough space to cache rdd_551_6 in memory! (computed 41.7 MiB so far)\n",
      "24/05/13 21:16:06 WARN MemoryStore: Not enough space to cache rdd_551_5 in memory! (computed 26.4 MiB so far)\n",
      "24/05/13 21:16:06 WARN MemoryStore: Not enough space to cache rdd_551_6 in memory! (computed 41.7 MiB so far)\n",
      "24/05/13 21:16:06 WARN MemoryStore: Not enough space to cache rdd_551_2 in memory! (computed 41.7 MiB so far)\n",
      "24/05/13 21:16:06 WARN MemoryStore: Not enough space to cache rdd_551_4 in memory! (computed 62.6 MiB so far)\n",
      "                                                                                \r"
     ]
    }
   ],
   "source": [
    "from pyspark.ml.classification import RandomForestClassifier\n",
    "\n",
    "(training_data, test_data) = data_training_and_test.randomSplit([0.7, 0.3], 2017)\n",
    "rf = RandomForestClassifier(labelCol = \"Label\", featuresCol = \"pca_features\", numTrees = 20)\n",
    "rf_model = rf.fit(training_data)"
   ]
  },
  {
   "cell_type": "code",
   "execution_count": 112,
   "metadata": {},
   "outputs": [
    {
     "data": {
      "text/plain": [
       "<pyspark.ml.classification.BinaryRandomForestClassificationTrainingSummary at 0x339a6f710>"
      ]
     },
     "execution_count": 112,
     "metadata": {},
     "output_type": "execute_result"
    }
   ],
   "source": [
    "rf_model.summary"
   ]
  },
  {
   "cell_type": "code",
   "execution_count": 113,
   "metadata": {},
   "outputs": [
    {
     "name": "stderr",
     "output_type": "stream",
     "text": [
      "                                                                                \r"
     ]
    },
    {
     "name": "stdout",
     "output_type": "stream",
     "text": [
      "Binary Classification Accuracy: 0.9876972049130137\n",
      "Binary Classification Area Under ROC: 0.9987657396602588\n",
      "Binary Classification Precision: [0.9986814524749326, 0.9182208700240757]\n",
      "Binary Classification Recall: [0.9872190701755968, 0.9909990478478692]\n"
     ]
    }
   ],
   "source": [
    "acc = rf_model.summary.accuracy\n",
    "#Area under ROC\n",
    "auc = rf_model.summary.areaUnderROC\n",
    "#Precision on both classes\n",
    "precision = rf_model.summary.precisionByLabel\n",
    "#Recall on both classes\n",
    "recall = rf_model.summary.recallByLabel\n",
    "\n",
    "\n",
    "print(f\"Binary Classification Accuracy: {acc}\")\n",
    "print(f\"Binary Classification Area Under ROC: {auc}\")\n",
    "print(f\"Binary Classification Precision: {precision}\")\n",
    "print(f\"Binary Classification Recall: {recall}\")"
   ]
  },
  {
   "cell_type": "code",
   "execution_count": 114,
   "metadata": {},
   "outputs": [],
   "source": [
    "predictions = rf_model.transform(test_data)"
   ]
  },
  {
   "cell_type": "code",
   "execution_count": 115,
   "metadata": {},
   "outputs": [
    {
     "name": "stderr",
     "output_type": "stream",
     "text": [
      "[Stage 239:>                                                        (0 + 1) / 1]\r"
     ]
    },
    {
     "name": "stdout",
     "output_type": "stream",
     "text": [
      "+-----+--------------------+----------+\n",
      "|Label|         probability|prediction|\n",
      "+-----+--------------------+----------+\n",
      "|    0|[0.20892904698737...|       1.0|\n",
      "|    0|[0.20892904698737...|       1.0|\n",
      "|    0|[0.99617462932464...|       0.0|\n",
      "|    0|[0.99617462932464...|       0.0|\n",
      "|    0|[0.99617462932464...|       0.0|\n",
      "|    0|[0.99617462932464...|       0.0|\n",
      "|    0|[0.99617462932464...|       0.0|\n",
      "|    0|[0.99617462932464...|       0.0|\n",
      "|    0|[0.99617462932464...|       0.0|\n",
      "|    0|[0.99617462932464...|       0.0|\n",
      "|    0|[0.99617462932464...|       0.0|\n",
      "|    0|[0.99617462932464...|       0.0|\n",
      "|    0|[0.99617462932464...|       0.0|\n",
      "|    0|[0.99617462932464...|       0.0|\n",
      "|    0|[0.98973071412445...|       0.0|\n",
      "|    0|[0.98973071412445...|       0.0|\n",
      "|    0|[0.98973071412445...|       0.0|\n",
      "|    0|[0.98973071412445...|       0.0|\n",
      "|    0|[0.98973071412445...|       0.0|\n",
      "|    0|[0.98973071412445...|       0.0|\n",
      "+-----+--------------------+----------+\n",
      "only showing top 20 rows\n",
      "\n"
     ]
    },
    {
     "name": "stderr",
     "output_type": "stream",
     "text": [
      "                                                                                \r"
     ]
    }
   ],
   "source": [
    "predictions.select(\"Label\", \"probability\", \"prediction\").show()"
   ]
  },
  {
   "cell_type": "code",
   "execution_count": 116,
   "metadata": {},
   "outputs": [
    {
     "name": "stderr",
     "output_type": "stream",
     "text": [
      "24/05/13 21:17:09 WARN MemoryStore: Not enough space to cache rdd_621_7 in memory! (computed 41.7 MiB so far)\n",
      "24/05/13 21:17:09 WARN BlockManager: Persisting block rdd_621_7 to disk instead.\n",
      "24/05/13 21:17:09 WARN MemoryStore: Not enough space to cache rdd_621_4 in memory! (computed 17.6 MiB so far)\n",
      "24/05/13 21:17:09 WARN BlockManager: Persisting block rdd_621_4 to disk instead.\n",
      "24/05/13 21:17:09 WARN MemoryStore: Not enough space to cache rdd_621_6 in memory! (computed 17.6 MiB so far)\n",
      "24/05/13 21:17:09 WARN BlockManager: Persisting block rdd_621_6 to disk instead.\n",
      "24/05/13 21:17:09 WARN MemoryStore: Not enough space to cache rdd_621_3 in memory! (computed 41.7 MiB so far)\n",
      "24/05/13 21:17:09 WARN BlockManager: Persisting block rdd_621_3 to disk instead.\n",
      "24/05/13 21:17:09 WARN MemoryStore: Not enough space to cache rdd_621_2 in memory! (computed 41.7 MiB so far)\n",
      "24/05/13 21:17:09 WARN BlockManager: Persisting block rdd_621_2 to disk instead.\n",
      "24/05/13 21:17:11 WARN MemoryStore: Not enough space to cache rdd_621_2 in memory! (computed 62.6 MiB so far)\n",
      "24/05/13 21:17:11 WARN MemoryStore: Not enough space to cache rdd_621_0 in memory! (computed 3.4 MiB so far)\n",
      "24/05/13 21:17:11 WARN BlockManager: Persisting block rdd_621_0 to disk instead.\n",
      "24/05/13 21:17:11 WARN MemoryStore: Not enough space to cache rdd_621_4 in memory! (computed 62.6 MiB so far)\n",
      "24/05/13 21:17:11 WARN MemoryStore: Not enough space to cache rdd_621_6 in memory! (computed 26.4 MiB so far)\n",
      "24/05/13 21:17:13 WARN MemoryStore: Not enough space to cache rdd_621_4 in memory! (computed 26.4 MiB so far)\n",
      "24/05/13 21:17:13 WARN MemoryStore: Not enough space to cache rdd_621_2 in memory! (computed 41.7 MiB so far)\n",
      "24/05/13 21:17:13 WARN MemoryStore: Not enough space to cache rdd_621_6 in memory! (computed 41.7 MiB so far)\n",
      "24/05/13 21:17:14 WARN MemoryStore: Not enough space to cache rdd_621_6 in memory! (computed 26.4 MiB so far)\n",
      "24/05/13 21:17:14 WARN MemoryStore: Not enough space to cache rdd_621_4 in memory! (computed 41.7 MiB so far)\n",
      "24/05/13 21:17:14 WARN MemoryStore: Not enough space to cache rdd_621_2 in memory! (computed 41.7 MiB so far)\n",
      "24/05/13 21:17:15 WARN MemoryStore: Not enough space to cache rdd_621_6 in memory! (computed 26.4 MiB so far)\n",
      "24/05/13 21:17:15 WARN MemoryStore: Not enough space to cache rdd_621_2 in memory! (computed 41.7 MiB so far)\n",
      "24/05/13 21:17:15 WARN MemoryStore: Not enough space to cache rdd_621_4 in memory! (computed 41.7 MiB so far)\n",
      "24/05/13 21:17:17 WARN MemoryStore: Not enough space to cache rdd_621_2 in memory! (computed 41.7 MiB so far)\n",
      "24/05/13 21:17:17 WARN MemoryStore: Not enough space to cache rdd_621_6 in memory! (computed 26.4 MiB so far)\n",
      "24/05/13 21:17:17 WARN MemoryStore: Not enough space to cache rdd_621_4 in memory! (computed 41.7 MiB so far)\n",
      "                                                                                \r"
     ]
    }
   ],
   "source": [
    "(multi_training_data, multi_test_data) = multi_data_training_and_test.randomSplit([0.7, 0.3], 2017)\n",
    "rf_multi = RandomForestClassifier(labelCol = \"attack_cat_index\", featuresCol = \"pca_features\", numTrees = 20)\n",
    "rf_model_multi = rf_multi.fit(multi_training_data)"
   ]
  },
  {
   "cell_type": "code",
   "execution_count": 117,
   "metadata": {},
   "outputs": [
    {
     "name": "stderr",
     "output_type": "stream",
     "text": [
      "[Stage 254:=======>                                                 (1 + 7) / 8]\r"
     ]
    },
    {
     "name": "stdout",
     "output_type": "stream",
     "text": [
      "Multiclass Classification Accuracy: 0.96871060404135\n",
      "Multiclass Classification Precision: [0.980730110073847, 0.9533715692945789, 0.5943654948890551, 0.0, 0.3952576549663928, 0.9563789868667918, 0.0, 0.0, 0.0, 0.0]\n",
      "Multiclass Classification Recall: [0.9977037236530638, 0.9753752718400255, 0.6900366630218049, 0.0, 0.18552274121461748, 0.20761633234904797, 0.0, 0.0, 0.0, 0.0]\n"
     ]
    },
    {
     "name": "stderr",
     "output_type": "stream",
     "text": [
      "                                                                                \r"
     ]
    }
   ],
   "source": [
    "acc = rf_model_multi.summary.accuracy\n",
    "\n",
    "#Precision on both classes\n",
    "precision = rf_model_multi.summary.precisionByLabel\n",
    "#Recall on both classes\n",
    "recall = rf_model_multi.summary.recallByLabel\n",
    "\n",
    "\n",
    "print(f\"Multiclass Classification Accuracy: {acc}\")\n",
    "print(f\"Multiclass Classification Precision: {precision}\")\n",
    "print(f\"Multiclass Classification Recall: {recall}\")"
   ]
  },
  {
   "cell_type": "code",
   "execution_count": 118,
   "metadata": {},
   "outputs": [],
   "source": [
    "predictions = rf_model_multi.transform(multi_test_data)"
   ]
  },
  {
   "cell_type": "code",
   "execution_count": 119,
   "metadata": {},
   "outputs": [
    {
     "name": "stderr",
     "output_type": "stream",
     "text": [
      "[Stage 256:>                                                        (0 + 1) / 1]\r"
     ]
    },
    {
     "name": "stdout",
     "output_type": "stream",
     "text": [
      "+---+------+------+----+----+-----+-----+-----+-----+-----+-----+----+----+-----+-----+-------+-------+-----------+-----------+----+----+-------+-------+------+------+------+---------------+------------+----------------+------------+----------+----------+----------+----------+----------+----------------+----------------+--------------+-----+-------------+-----------+-----------+-------------+----------------+-------------------+-------------------+---------------------+------------------------+--------------------+--------------------+--------------------+--------------------+----------+\n",
      "|dur|sbytes|dbytes|sttl|dttl|sloss|dloss|Sload|Dload|Spkts|Dpkts|swin|dwin|stcpb|dtcpb|smeansz|dmeansz|trans_depth|res_bdy_len|Sjit|Djit|Sintpkt|Dintpkt|tcprtt|synack|ackdat|is_sm_ips_ports|ct_state_ttl|ct_flw_http_mthd|is_ftp_login|ct_ftp_cmd|ct_srv_src|ct_srv_dst|ct_dst_ltm|ct_src_ltm|ct_src_dport_ltm|ct_dst_sport_ltm|ct_dst_src_ltm|Label|network_bytes|proto_index|state_index|service_index|attack_cat_index|proto_index_encoded|state_index_encoded|service_index_encoded|attack_cat_index_encoded|            features|        pca_features|       rawPrediction|         probability|prediction|\n",
      "+---+------+------+----+----+-----+-----+-----+-----+-----+-----+----+----+-----+-----+-------+-------+-----------+-----------+----+----+-------+-------+------+------+------+---------------+------------+----------------+------------+----------+----------+----------+----------+----------+----------------+----------------+--------------+-----+-------------+-----------+-----------+-------------+----------------+-------------------+-------------------+---------------------+------------------------+--------------------+--------------------+--------------------+--------------------+----------+\n",
      "|0.0|    28|     0| 254|   0|    0|    0|  0.0|  0.0|    1|    0|   0|   0|    0|    0|     28|      0|          0|          0| 0.0| 0.0|    0.0|    0.0|   0.0|   0.0|   0.0|              0|           0|               0|           0|         0|         2|         2|         2|         2|               2|               1|             2|    0|           28|       15.0|       14.0|          0.0|             0.0|   (134,[15],[1.0])|    (16,[14],[1.0])|       (13,[0],[1.0])|          (10,[0],[1.0])|(217,[1,3,9,15,31...|[-8.1623693340653...|[6.02743555503357...|[0.30137177775167...|       0.0|\n",
      "|0.0|    28|     0| 254|   0|    0|    0|  0.0|  0.0|    1|    0|   0|   0|    0|    0|     28|      0|          0|          0| 0.0| 0.0|    0.0|    0.0|   0.0|   0.0|   0.0|              0|           0|               0|           0|         0|         2|         2|         2|         2|               2|               1|             2|    0|           28|       15.0|       14.0|          0.0|             0.0|   (134,[15],[1.0])|    (16,[14],[1.0])|       (13,[0],[1.0])|          (10,[0],[1.0])|(217,[1,3,9,15,31...|[-8.1623693340653...|[6.02743555503357...|[0.30137177775167...|       0.0|\n",
      "|0.0|    28|    46|   0|   0|    0|    0|  0.0|  0.0|    1|    1|   0|   0|    0|    0|     28|     46|          0|          0| 0.0| 0.0|    0.0|    0.0|   0.0|   0.0|   0.0|              0|           0|               0|           0|         0|         2|         2|         2|         2|               2|               2|             2|    0|           74|        3.0|        1.0|          0.0|             0.0|    (134,[3],[1.0])|     (16,[1],[1.0])|       (13,[0],[1.0])|          (10,[0],[1.0])|(217,[1,2,9,10,15...|[-0.0031674578258...|[19.9441581121844...|[0.99720790560922...|       0.0|\n",
      "+---+------+------+----+----+-----+-----+-----+-----+-----+-----+----+----+-----+-----+-------+-------+-----------+-----------+----+----+-------+-------+------+------+------+---------------+------------+----------------+------------+----------+----------+----------+----------+----------+----------------+----------------+--------------+-----+-------------+-----------+-----------+-------------+----------------+-------------------+-------------------+---------------------+------------------------+--------------------+--------------------+--------------------+--------------------+----------+\n",
      "only showing top 3 rows\n",
      "\n"
     ]
    },
    {
     "name": "stderr",
     "output_type": "stream",
     "text": [
      "                                                                                \r"
     ]
    }
   ],
   "source": [
    "predictions.show(3)"
   ]
  },
  {
   "cell_type": "code",
   "execution_count": 120,
   "metadata": {},
   "outputs": [
    {
     "name": "stderr",
     "output_type": "stream",
     "text": [
      "[Stage 257:>                                                        (0 + 1) / 1]\r"
     ]
    },
    {
     "name": "stdout",
     "output_type": "stream",
     "text": [
      "+----------------+--------------------+----------+\n",
      "|attack_cat_index|         probability|prediction|\n",
      "+----------------+--------------------+----------+\n",
      "|             0.0|[0.30137177775167...|       0.0|\n",
      "|             0.0|[0.30137177775167...|       0.0|\n",
      "|             0.0|[0.99720790560922...|       0.0|\n",
      "|             0.0|[0.98981515737915...|       0.0|\n",
      "|             0.0|[0.98981515737915...|       0.0|\n",
      "|             0.0|[0.98981515737915...|       0.0|\n",
      "|             0.0|[0.98981515737915...|       0.0|\n",
      "|             0.0|[0.98981515737915...|       0.0|\n",
      "|             0.0|[0.98981515737915...|       0.0|\n",
      "|             0.0|[0.98981515737915...|       0.0|\n",
      "|             0.0|[0.98981515737915...|       0.0|\n",
      "|             0.0|[0.98981515737915...|       0.0|\n",
      "|             0.0|[0.98981515737915...|       0.0|\n",
      "|             0.0|[0.98981515737915...|       0.0|\n",
      "|             0.0|[0.99610082210542...|       0.0|\n",
      "|             0.0|[0.99648122292167...|       0.0|\n",
      "|             0.0|[0.99648122292167...|       0.0|\n",
      "|             0.0|[0.99648122292167...|       0.0|\n",
      "|             0.0|[0.99648122292167...|       0.0|\n",
      "|             0.0|[0.99648122292167...|       0.0|\n",
      "+----------------+--------------------+----------+\n",
      "only showing top 20 rows\n",
      "\n"
     ]
    },
    {
     "name": "stderr",
     "output_type": "stream",
     "text": [
      "                                                                                \r"
     ]
    }
   ],
   "source": [
    "predictions.select(\"attack_cat_index\", \"probability\", \"prediction\").show()"
   ]
  },
  {
   "cell_type": "code",
   "execution_count": null,
   "metadata": {},
   "outputs": [],
   "source": []
  },
  {
   "cell_type": "code",
   "execution_count": null,
   "metadata": {},
   "outputs": [],
   "source": []
  },
  {
   "cell_type": "code",
   "execution_count": null,
   "metadata": {},
   "outputs": [],
   "source": []
  },
  {
   "cell_type": "code",
   "execution_count": null,
   "metadata": {},
   "outputs": [],
   "source": []
  },
  {
   "cell_type": "code",
   "execution_count": null,
   "metadata": {},
   "outputs": [],
   "source": []
  }
 ],
 "metadata": {
  "kernelspec": {
   "display_name": "penv",
   "language": "python",
   "name": "python3"
  },
  "language_info": {
   "codemirror_mode": {
    "name": "ipython",
    "version": 3
   },
   "file_extension": ".py",
   "mimetype": "text/x-python",
   "name": "python",
   "nbconvert_exporter": "python",
   "pygments_lexer": "ipython3",
   "version": "3.11.9"
  }
 },
 "nbformat": 4,
 "nbformat_minor": 2
}
